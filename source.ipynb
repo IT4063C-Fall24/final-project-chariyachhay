{
 "cells": [
  {
   "attachments": {},
   "cell_type": "markdown",
   "metadata": {},
   "source": [
    "# {How Crime Incidents in Cincinnati Vary Over Time and Across Different Neighborhoods in 2024?}📝\n",
    "\n",
    "![Banner](./assets/banner.jpeg)"
   ]
  },
  {
   "attachments": {},
   "cell_type": "markdown",
   "metadata": {},
   "source": [
    "## Topic\n",
    "*What problem are you (or your stakeholder) trying to address?*\n",
    "📝 How do crime incidents in Cincinnati vary over time and across different neighborhoods? The problem I am trying to address is the impact of police response times and on crime rates in Cincinnati. One reason why many parents may worry about putting their kids for University of Cincinnati as the surrounding areas are high in crime rates and can be very dangerous. By evaluating these datasets and API, it can help local law enforcement and community stakeholders analyze the effectiveness of police operations and how resources are being allocated. With the Cincinnati Police Data Initiative dataset, we can identify trends that reveal how different types of crimes have a relationship with varied response times on different neighborhoods and time periods. For example, if longer response times are consistently involved with increased crime rates, this can highlight the areas that need additional officers or resources etc. to improve community safety. This project is meant to uncover patterns that can guide our law enforcement to make more efficient policing strategies and contribute to the overall safety and well-being of Cincinnati's residents, including UC students!!!\n"
   ]
  },
  {
   "attachments": {},
   "cell_type": "markdown",
   "metadata": {},
   "source": [
    "## Project Question\n",
    "*What specific question are you seeking to answer with this project?*\n",
    "*This is not the same as the questions you ask to limit the scope of the project.*\n",
    "📝 With this project, I am seeking to answer the specific question: How do police response times correlate with different types of crime rates in Cincinnati. What suggestions does this relationship have for resource allocation and community safety? \n",
    "\n",
    "By exploring this question, I want to find out if longer response times lead to higher crime rates, identify which neighborhoods/areas are most affected, and assess the effectiveness of our current policing strategies. Also I want to understand if certain types of crimes have faster response rates or vice verse, and thus this could educate targeted civilians and cause some policy adjustments. Overall this analysis will help guide decisions on how to optimize police resources and enhance public safety and build more community trust in our law enforcement."
   ]
  },
  {
   "attachments": {},
   "cell_type": "markdown",
   "metadata": {},
   "source": [
    "## What would an answer look like?\n",
    "*What is your hypothesized answer to your question?*\n",
    "📝 My hypothesized answer is that longer police response times are related with higher crime rates in Cincinnati. I expect to discover that areas with longer response times experience a greater number of violent crimes, like assault and robbery, compared to property crimes. And these may be less influenced by immediate and more quick police presence. Also, I believe that certain neighborhoods, particularly those with fewer police resources, will show more inequalities in crime rates related to response times. This analysis may expose that quick responses are imperative in preventing crimes and/or addressing ongoing incidents effectively. In conclusion, the findings could indicate a need for reallocating police resources to enhance response procedures in areas with high-crime."
   ]
  },
  {
   "attachments": {},
   "cell_type": "markdown",
   "metadata": {},
   "source": [
    "## Data Sources\n",
    "*What 3 data sources have you identified for this project?*\n",
    "*How are you going to relate these datasets?*\n",
    "📝 5 data sources in total\n",
    "\n",
    "Datasets (4): \n",
    "https://data.cincinnati-oh.gov/safety/PDI-Police-Data-Initiative-Police-Calls-for-Servic/gexm-h6bt/about_data\n",
    "https://data.cincinnati-oh.gov/safety/PDI-Police-Data-Initiative-Crime-Incidents/k59e-2pvf/about_data\n",
    "https://data.cincinnati-oh.gov/safety/CPD-Reported-Shootings/sfea-4ksu/about_data\n",
    "https://data.cincinnati-oh.gov/Safety/PDI-Police-Data-Initiative-Use-of-Force/8us8-wi2w/about_data\n",
    "\n",
    "API (1):\n",
    "https://dev.socrata.com/foundry/data.cincinnati-oh.gov/k59e-2pvf\n",
    "\n",
    "I am going to relate these data sources by connecting the Police Calls for Service and Crime Incidents dataset by utilizing the shared timestamps and locations. This will allow us to examine how response times for different types of calls, like violent or property crimes, relate to the frequency and outcomes of incidents in the same areas.\n",
    "\n",
    "By linking crime types from the Crime Incidents dataset with their corresponding calls for service, we can analyze how response times differ depending on the severity or nature of the crime. This will provide valuable insights into the relationship between response times and crime rates.\n",
    "\n",
    "Also via using the geographical information from both datasets, we can conduct a neighborhood-level analysis. This will help us explore how response times and crime rates vary across different areas and assess whether these differences contribute to higher crime rates in specific neighborhoods or influence the effectiveness of police response strategies.\n"
   ]
  },
  {
   "attachments": {},
   "cell_type": "markdown",
   "metadata": {},
   "source": [
    "## Approach and Analysis\n",
    "*What is your approach to answering your project question?*\n",
    "*How will you use the identified data to answer your project question?*\n",
    "📝 My approach to answering my project question is a systematic one. I will being by starting with data preparation and analysis. That means I will clean both the Police Calls for Service and Crime Incidents datasets, to make sure fields like timestamps and location data etc are all consistent. Then move onto handling any missing or irrelevant data so it will mess up later on in the project. Next, I will merge the two datasets by matching incidents based on time and location. This will allow me to link calls for service with the corresponding crime events. When I am calculating response times for each call it will help determine the time difference between when the call was made and when the officers actually arrived on the scene. Moving on, we will analyze how response times vary for the different types of crime like violent and property crimes. Then we can use those findings to investigate patterns in how severe they were. It can also help us assess whether delays in certain areas are contributing to crime patterns or affecting police effectiveness. Then finally I will use statistical methods to explore the relationship between response times and crime outcomes more closer, like through regression modeling for instance."
   ]
  },
  {
   "cell_type": "code",
   "execution_count": null,
   "metadata": {},
   "outputs": [],
   "source": [
    "import pandas as pd\n",
    "import requests\n",
    "\n",
    "#accessing API for Crime Incidents data\n",
    "api_url = 'https://data.cincinnati-oh.gov/resource/k59e-2pvf.json'\n",
    "headers = {'Accept': 'application/json'}  #requesting JSON response\n",
    "response = requests.get(api_url, headers=headers)\n",
    "\n",
    "#check if the API call was successful\n",
    "if response.status_code == 200:\n",
    "    api_data = pd.DataFrame(response.json())  #load the data into a df\n",
    "    print(f\"API Data Loaded: {len(api_data)} records.\")  #check number of records loaded\n",
    "else:\n",
    "    print(f\"API request failed with status code: {response.status_code}\")\n"
   ]
  },
  {
   "cell_type": "code",
   "execution_count": null,
   "metadata": {},
   "outputs": [],
   "source": [
    "import pandas as pd\n",
    "\n",
    "#load the Police Calls for Service dataset\n",
    "calls_for_service_url = 'https://data.cincinnati-oh.gov/api/views/gexm-h6bt/rows.csv?accessType=DOWNLOAD'\n",
    "\n",
    "#display the first five rows of the dataset\n",
    "print(\"Police Calls for Service Data (First 5 Rows):\")\n",
    "print(calls_for_service_data.head())\n"
   ]
  },
  {
   "cell_type": "code",
   "execution_count": null,
   "metadata": {},
   "outputs": [],
   "source": [
    "import pandas as pd\n",
    "\n",
    "#load the Crime Incidents dataset\n",
    "crime_incidents_url = 'https://data.cincinnati-oh.gov/api/views/k59e-2pvf/rows.csv?accessType=DOWNLOAD'\n",
    "\n",
    "#display the first five rows of the dataset\n",
    "print(\"Crime Incidents Data (First 5 Rows):\")\n",
    "print(crime_incidents_data.head())"
   ]
  },
  {
   "cell_type": "markdown",
   "metadata": {},
   "source": [
    "## Checkpoint 2 "
   ]
  },
  {
   "cell_type": "markdown",
   "metadata": {},
   "source": [
    "## Exploratory Data Analysis (EDA) & Visualization\n",
    "\n",
    "- Produce statistical summaries of the data.\n",
    "- Analyze data distributions of the data.\n",
    "- Analyze the correlations between the data features.\n",
    "- Identify data issues.\n",
    "- Identify data types that need to be converted/transformed.\n",
    "- Provide a detailed write-up on every item above."
   ]
  },
  {
   "cell_type": "code",
   "execution_count": null,
   "metadata": {},
   "outputs": [],
   "source": [
    "def analyze_dataframe(df, name):\n",
    "    #summary of the dataframe\n",
    "    print(f\"Summary of {name}:\")\n",
    "    print(df.info())\n",
    "    print(\"\\n\")\n",
    "\n",
    "    #statistics for the dataframe\n",
    "    print(f\"Statistics for {name}:\")\n",
    "    print(df.describe())\n",
    "    print(\"\\n\")\n",
    "\n",
    "    #number of duplicate records\n",
    "    duplicate_count = df.duplicated().sum()\n",
    "    print(f\"Number of duplicate records in {name}: {duplicate_count}\")\n",
    "    \n",
    "    #drop the duplicate records\n",
    "    df.drop_duplicates(inplace=True)\n",
    "    print(f\"Duplicate records dropped from {name}.\")\n",
    "    print(\"\\n\")\n",
    "\n",
    "    #check for missing values\n",
    "    missing_values_count = df.isna().sum()\n",
    "    print(f\"Missing values in {name}:\\n{missing_values_count}\")\n",
    "    print(\"\\n\")\n",
    "\n",
    "#list of datasets\n",
    "datasets = [data, shootings_data, use_of_force_data, calls_data]\n",
    "dataset_names = ['API Data', 'Shootings Data', 'Use of Force Data', 'Calls Data']\n",
    "\n",
    "#analyze each dataset\n",
    "for i in range(len(datasets)):\n",
    "    analyze_dataframe(datasets[i], dataset_names[i])\n"
   ]
  },
  {
   "cell_type": "markdown",
   "metadata": {},
   "source": [
    "The police incidents dataset gives us many summaries, espeically the hour_from column because it has a mean of 741 and shows significant variability meaning there is a wide range of incident times. As for the correlation analysis it is limited since there is only one numeric feature, but we can use teh categorical relationships like \"offense\" against hour_from to get some trends too. There is a high percentage of missing values that I want to point out; for example: victim_ethnicity and totalnumbervictims which does affect the overall analysis. Additionally there are many data types that require conversion. Some columns like longitude_x and latitude_x should be numeric but they are not, and the dates for \"date_reported\" should be in datetime format to be easier to work with. \n",
    "\n",
    "The shootings dataset has 1,490 entries, and it provides important summaries for columns like LATITUDE_X, LONGITUDE_X, and Age, with the averages for each roughly being 39.14 (lat), -84.52 (long), and 29.59 (age). When I look at the data distributions, it seems that age has a normal distribution but lattitude and longitude have some outliers. This leads me to think it would be interesting to analyze how age relates to other demographic factors like race and this data set. But this might be difficult to do since they are categorical variables. To note a few data issues, there are some missing values in columns like lattitude and sna neighborhood, but I did not find any duplicates which is good for keeping the data clean. Then for data types, I believe that the DateTimeOccurred column should be converted to a datetime format to make it easier to analyze dates and times.\n",
    "\n",
    "The Use of Force dataset contains 21,818 entries and like the rest also posesseses various columns, including \"INCIDENT_NO\" and \"INCIDENT_DATE.\" The stats show a mean latitude of about 39.13 and a mean longitude of approximately -84.52 so this give us the exact points and location context of the incidents we work with in the data set. A downside I saw right away were that there are a lot of missing values, especially in lattitude and longitude.There is over 9000 entries missing for thos two columns and this could definitely affect spatial analysis. Other missing values in the categorical columns are for instance SUBJECT_GENDER and OFFICER_GENDER. But the good thing is there are no duplicate records. I noted that for data types I had to change, the INCIDENT_DATE column needs to be converted from object to datetime for better analysis.\n",
    "\n",
    "The Calls dataset has the most data records is what I noticed, specifically with a massive 5,626,155 entries. Some key columns being CREATE_TIME_INCIDENT and DISPOSITION_TEXT. The data has a variety of types like datetime for incident creation time and float for priority levels which I thought was unique from the others greatly. Though, the missing values in this set are significant since it is so big, like in columns PRIORITY_COLOR and SNA_NEIGHBORHOOD, where over 2 million entries are missing. This could affect my analysis related to response times and neighborhood impacts if I choose to stick with that still. The bright side is that there are no duplicate records to worry about in addition. The latitude and longitude columns show valid float values but there are still a lot of missing data points in these coordinates. To improve the dataset's accuracy, I will strongly consider filling in missing values where possible and making sure all datetime columns are correctly formatted."
   ]
  },
  {
   "cell_type": "markdown",
   "metadata": {},
   "source": [
    "## Data Visualizations"
   ]
  },
  {
   "cell_type": "code",
   "execution_count": null,
   "metadata": {},
   "outputs": [],
   "source": [
    "import pandas as pd\n",
    "import requests\n",
    "import matplotlib.pyplot as plt\n",
    "\n",
    "#api url for crime incidents data\n",
    "api_url = 'https://data.cincinnati-oh.gov/resource/k59e-2pvf.json'\n",
    "\n",
    "#make api request\n",
    "response = requests.get(api_url)\n",
    "\n",
    "#check if request worked\n",
    "if response.status_code == 200:\n",
    "    #load data into dataframe\n",
    "    data = pd.DataFrame(response.json())\n",
    "    print(f\"loaded {len(data)} records from api\")\n",
    "\n",
    "    #check if date_reported column is there and convert to datetime\n",
    "    if 'date_reported' in data.columns:\n",
    "        data['date_reported'] = pd.to_datetime(data['date_reported'], errors='coerce')\n",
    "        data['incident_hour'] = data['date_reported'].dt.hour\n",
    "\n",
    "        #get top 3 neighborhoods by incidents\n",
    "        top_neigh = data['cpd_neighborhood'].value_counts().head(3).index\n",
    "        filtered_data = data[data['cpd_neighborhood'].isin(top_neigh)]\n",
    "\n",
    "        #count incidents by hour and neighborhood\n",
    "        hourly_incidents = filtered_data.groupby(['incident_hour', 'cpd_neighborhood']).size().unstack(fill_value=0)\n",
    "\n",
    "        #plot line chart\n",
    "        plt.figure(figsize=(10, 6))  # set figure size\n",
    "        for neigh in hourly_incidents.columns:  # plot each neighborhood\n",
    "            plt.plot(hourly_incidents.index, hourly_incidents[neigh], marker='o', label=neigh)\n",
    "\n",
    "        plt.title('Incidents by Hour for Top 3 Neighborhoods')  # title of the graph\n",
    "        plt.xlabel('Hour of the Day')  # x-axis label\n",
    "        plt.ylabel('Incident Count')  # y-axis label\n",
    "\n",
    "        #change x-ticks for am and pm for better time reading\n",
    "        plt.xticks(range(24), [f\"{(i % 12) + 1} {'am' if i < 12 else 'pm'}\" for i in range(24)], rotation=45)\n",
    "\n",
    "        plt.legend(title='Neighborhood', bbox_to_anchor=(1.05, 1))\n",
    "        plt.tight_layout()\n",
    "        plt.show()\n",
    "    else:\n",
    "        print(\"'date_reported' column missing\")\n",
    "else:\n",
    "    print(f\"api request failed with status: {response.status_code}\")"
   ]
  },
  {
   "cell_type": "markdown",
   "metadata": {},
   "source": [
    "The graph above illustrates the relationship between incident counts and the time of day. I chose to use a line chart for this data because it effectively displays numerous points across each hour to me, allowing the highest counts of incidents to stand out clearly. The graph indicates that different neighborhoods experience their peak incident times at various hours. For instance, Mount Airy shows higher incident counts at night, particularly at 1 AM and 6 AM, while Westwood has more incidents in the afternoon, peaking around 3 PM. The neighborhoods with the highest counts are Mount Airy, Westwood, and West Price Hill with each displaying patterns in their incident occurrences throughout the day that are also valuable to look into."
   ]
  },
  {
   "cell_type": "code",
   "execution_count": null,
   "metadata": {},
   "outputs": [],
   "source": [
    "import pandas as pd\n",
    "import matplotlib.pyplot as plt\n",
    "\n",
    "#load the excel file\n",
    "file_path = r'C:\\Users\\chari\\Documents\\Data Tech Analytics\\CPD_Reported_Shootings_20241026.csv'  \n",
    "shootings_data = pd.read_csv(file_path)\n",
    "\n",
    "#filter for just the year 2024\n",
    "shootings_2024 = shootings_data[shootings_data['YearOccurred'] == 2024]\n",
    "\n",
    "#convert the date column to datetime\n",
    "shootings_2024['DateOccurred'] = pd.to_datetime(shootings_2024['DateOccurred'], format='%Y%m%d')\n",
    "\n",
    "#add a column for month names\n",
    "shootings_2024['Month'] = shootings_2024['DateOccurred'].dt.month_name()\n",
    "\n",
    "#count shootings per month\n",
    "monthly_counts_2024 = shootings_2024['Month'].value_counts().reindex([\n",
    "    'January', 'February', 'March', 'April', 'May', 'June', \n",
    "    'July', 'August', 'September', 'October', 'November', 'December'\n",
    "])\n",
    "\n",
    "#set up data for scatter plot\n",
    "months = monthly_counts_2024.index\n",
    "counts = monthly_counts_2024.values\n",
    "\n",
    "#scatter plot\n",
    "plt.figure(figsize=(12, 6))\n",
    "plt.scatter(months, counts, color='blue', alpha=0.7, s=100)  # s is point size\n",
    "plt.title('Monthly Shootings Count in 2024')\n",
    "plt.xlabel('Month')\n",
    "plt.ylabel('Number of Shootings')\n",
    "plt.xticks(rotation=45)\n",
    "plt.grid(axis='y')\n",
    "\n",
    "plt.show()"
   ]
  },
  {
   "cell_type": "markdown",
   "metadata": {},
   "source": [
    "The graph shows the number of shootings across each month of the year. I chose a scatter plot for this data because it allows us to easily spot the months with the highest shooting counts and keeping it seperate from each months. The data suggests that shootings peak in the middle of the year, with June and July showing over 40 incidents. I feel this might be due to warmer weather, as more people are outside and interacting with each other. But in contrast, the earlier and colder months like February and March have the fewest shootings likely because people spend less time outside and inside more isolated etc."
   ]
  },
  {
   "cell_type": "code",
   "execution_count": null,
   "metadata": {},
   "outputs": [],
   "source": [
    "import pandas as pd\n",
    "import matplotlib.pyplot as plt\n",
    "\n",
    "#load the police use of force excel\n",
    "use_of_force_path = r'C:\\Users\\chari\\Documents\\Data Tech Analytics\\PDI__Police_Data_Initiative__Use_of_Force_20241026.csv'\n",
    "\n",
    "#read the dataset\n",
    "use_of_force_data = pd.read_csv(use_of_force_path)\n",
    "\n",
    "#filter for the top 5 neighborhoods with the most incidents\n",
    "top_5_neighborhoods = use_of_force_data['SNA_NEIGHBORHOOD'].value_counts().nlargest(5).index\n",
    "top_incidents = use_of_force_data[use_of_force_data['SNA_NEIGHBORHOOD'].isin(top_5_neighborhoods)]\n",
    "\n",
    "#count # of use of force incidents by incident type and neighborhood\n",
    "incident_counts = top_incidents.groupby(['INCIDENT_DESCRIPTION', 'SNA_NEIGHBORHOOD']).size().unstack(fill_value=0)\n",
    "\n",
    "#clustered bar chart\n",
    "fig, ax = plt.subplots(figsize=(16, 10))\n",
    "incident_counts.plot(kind='bar', width=0.8, ax=ax)\n",
    "\n",
    "#padding needed to add for better look \n",
    "plt.suptitle('Use of Force Incidents by Incident Type in Top 5 Neighborhoods', y=1.02, fontsize=16)  #main title with padding\n",
    "ax.set_xlabel('Incident Type', labelpad=15)  #add padding to x-axis label\n",
    "ax.set_ylabel('Number of Use of Force Incidents', labelpad=20)  #add padding to y-axis label\n",
    "plt.xticks(rotation=45, ha='right')\n",
    "\n",
    "#put legend outside\n",
    "plt.legend(title='Neighborhood', bbox_to_anchor=(1.05, 1), loc='upper left')\n",
    "\n",
    "#add extra padding around plot\n",
    "plt.subplots_adjust(top=0.85, right=0.85, left=0.1, bottom=0.15)\n",
    "plt.grid(axis='y', linestyle='--', alpha=0.7)\n",
    "\n",
    "plt.tight_layout()\n",
    "plt.show()\n"
   ]
  },
  {
   "cell_type": "markdown",
   "metadata": {},
   "source": [
    "This graph shows the types of use of force incidents in the top five neighborhoods, highlighting how often each type occurs within these areas in Cincinnati. The most common incidents appear to be \"injury to prisoner\" and the use of force methods like tasers or beanbags (not sure what that even means honestly), especially in the neighborhoods of Over-the-Rhine (OTR) and Avondale. While I don't have a clear reason for Avondale's rates, I do know very well that OTR has many bars, so that makes sense for alcohol-related incidents to contribute to higher use of force. I chose a clustered bar chart to clearly represent the frequency of these incidents across neighborhoods, making it easy to compare multiple incident types without losing context on neighborhood-specific differences."
   ]
  },
  {
   "cell_type": "code",
   "execution_count": 53,
   "metadata": {},
   "outputs": [
    {
     "name": "stderr",
     "output_type": "stream",
     "text": [
      "C:\\Users\\chari\\AppData\\Local\\Temp\\ipykernel_22000\\85592702.py:11: UserWarning:\n",
      "\n",
      "Could not infer format, so each element will be parsed individually, falling back to `dateutil`. To ensure parsing is consistent and as-expected, please specify a format.\n",
      "\n",
      "C:\\Users\\chari\\AppData\\Local\\Temp\\ipykernel_22000\\85592702.py:23: SettingWithCopyWarning:\n",
      "\n",
      "\n",
      "A value is trying to be set on a copy of a slice from a DataFrame.\n",
      "Try using .loc[row_indexer,col_indexer] = value instead\n",
      "\n",
      "See the caveats in the documentation: https://pandas.pydata.org/pandas-docs/stable/user_guide/indexing.html#returning-a-view-versus-a-copy\n",
      "\n"
     ]
    },
    {
     "data": {
      "application/vnd.plotly.v1+json": {
       "config": {
        "plotlyServerURL": "https://plot.ly"
       },
       "data": [
        {
         "alignmentgroup": "True",
         "hovertemplate": "INCIDENT_TYPE_ID=WAR<br>DAY_OF_WEEK=%{x}<br>counts=%{text}<extra></extra>",
         "legendgroup": "WAR",
         "marker": {
          "color": "#636efa",
          "pattern": {
           "shape": ""
          }
         },
         "name": "WAR",
         "offsetgroup": "WAR",
         "orientation": "v",
         "showlegend": true,
         "text": [
          4121,
          3678,
          2150,
          1612,
          4826,
          4818,
          4937
         ],
         "textposition": "auto",
         "type": "bar",
         "x": [
          "Friday",
          "Monday",
          "Saturday",
          "Sunday",
          "Thursday",
          "Tuesday",
          "Wednesday"
         ],
         "xaxis": "x",
         "y": [
          4121,
          3678,
          2150,
          1612,
          4826,
          4818,
          4937
         ],
         "yaxis": "y"
        },
        {
         "alignmentgroup": "True",
         "hovertemplate": "INCIDENT_TYPE_ID=WEAPON INCIDENT (S)<br>DAY_OF_WEEK=%{x}<br>counts=%{text}<extra></extra>",
         "legendgroup": "WEAPON INCIDENT (S)",
         "marker": {
          "color": "#EF553B",
          "pattern": {
           "shape": ""
          }
         },
         "name": "WEAPON INCIDENT (S)",
         "offsetgroup": "WEAPON INCIDENT (S)",
         "orientation": "v",
         "showlegend": true,
         "text": [
          8,
          11,
          6,
          7,
          6,
          6,
          8
         ],
         "textposition": "auto",
         "type": "bar",
         "x": [
          "Friday",
          "Monday",
          "Saturday",
          "Sunday",
          "Thursday",
          "Tuesday",
          "Wednesday"
         ],
         "xaxis": "x",
         "y": [
          8,
          11,
          6,
          7,
          6,
          6,
          8
         ],
         "yaxis": "y"
        },
        {
         "alignmentgroup": "True",
         "hovertemplate": "INCIDENT_TYPE_ID=WELFARE CHECK - NON-URGENT<br>DAY_OF_WEEK=%{x}<br>counts=%{text}<extra></extra>",
         "legendgroup": "WELFARE CHECK - NON-URGENT",
         "marker": {
          "color": "#00cc96",
          "pattern": {
           "shape": ""
          }
         },
         "name": "WELFARE CHECK - NON-URGENT",
         "offsetgroup": "WELFARE CHECK - NON-URGENT",
         "orientation": "v",
         "showlegend": true,
         "text": [
          720,
          802,
          646,
          624,
          788,
          750,
          785
         ],
         "textposition": "auto",
         "type": "bar",
         "x": [
          "Friday",
          "Monday",
          "Saturday",
          "Sunday",
          "Thursday",
          "Tuesday",
          "Wednesday"
         ],
         "xaxis": "x",
         "y": [
          720,
          802,
          646,
          624,
          788,
          750,
          785
         ],
         "yaxis": "y"
        },
        {
         "alignmentgroup": "True",
         "hovertemplate": "INCIDENT_TYPE_ID=WELFARE CHECK - URGENT<br>DAY_OF_WEEK=%{x}<br>counts=%{text}<extra></extra>",
         "legendgroup": "WELFARE CHECK - URGENT",
         "marker": {
          "color": "#ab63fa",
          "pattern": {
           "shape": ""
          }
         },
         "name": "WELFARE CHECK - URGENT",
         "offsetgroup": "WELFARE CHECK - URGENT",
         "orientation": "v",
         "showlegend": true,
         "text": [
          151,
          171,
          146,
          161,
          161,
          157,
          168
         ],
         "textposition": "auto",
         "type": "bar",
         "x": [
          "Friday",
          "Monday",
          "Saturday",
          "Sunday",
          "Thursday",
          "Tuesday",
          "Wednesday"
         ],
         "xaxis": "x",
         "y": [
          151,
          171,
          146,
          161,
          161,
          157,
          168
         ],
         "yaxis": "y"
        },
        {
         "alignmentgroup": "True",
         "hovertemplate": "INCIDENT_TYPE_ID=WRECKER REQUEST<br>DAY_OF_WEEK=%{x}<br>counts=%{text}<extra></extra>",
         "legendgroup": "WRECKER REQUEST",
         "marker": {
          "color": "#FFA15A",
          "pattern": {
           "shape": ""
          }
         },
         "name": "WRECKER REQUEST",
         "offsetgroup": "WRECKER REQUEST",
         "orientation": "v",
         "showlegend": true,
         "text": [
          67,
          40,
          23,
          16,
          64,
          62,
          66
         ],
         "textposition": "auto",
         "type": "bar",
         "x": [
          "Friday",
          "Monday",
          "Saturday",
          "Sunday",
          "Thursday",
          "Tuesday",
          "Wednesday"
         ],
         "xaxis": "x",
         "y": [
          67,
          40,
          23,
          16,
          64,
          62,
          66
         ],
         "yaxis": "y"
        }
       ],
       "layout": {
        "barmode": "stack",
        "legend": {
         "title": {
          "text": "Incident Type"
         },
         "tracegroupgap": 0
        },
        "margin": {
         "b": 40,
         "l": 40,
         "r": 40,
         "t": 40
        },
        "template": {
         "data": {
          "bar": [
           {
            "error_x": {
             "color": "#2a3f5f"
            },
            "error_y": {
             "color": "#2a3f5f"
            },
            "marker": {
             "line": {
              "color": "#E5ECF6",
              "width": 0.5
             },
             "pattern": {
              "fillmode": "overlay",
              "size": 10,
              "solidity": 0.2
             }
            },
            "type": "bar"
           }
          ],
          "barpolar": [
           {
            "marker": {
             "line": {
              "color": "#E5ECF6",
              "width": 0.5
             },
             "pattern": {
              "fillmode": "overlay",
              "size": 10,
              "solidity": 0.2
             }
            },
            "type": "barpolar"
           }
          ],
          "carpet": [
           {
            "aaxis": {
             "endlinecolor": "#2a3f5f",
             "gridcolor": "white",
             "linecolor": "white",
             "minorgridcolor": "white",
             "startlinecolor": "#2a3f5f"
            },
            "baxis": {
             "endlinecolor": "#2a3f5f",
             "gridcolor": "white",
             "linecolor": "white",
             "minorgridcolor": "white",
             "startlinecolor": "#2a3f5f"
            },
            "type": "carpet"
           }
          ],
          "choropleth": [
           {
            "colorbar": {
             "outlinewidth": 0,
             "ticks": ""
            },
            "type": "choropleth"
           }
          ],
          "contour": [
           {
            "colorbar": {
             "outlinewidth": 0,
             "ticks": ""
            },
            "colorscale": [
             [
              0,
              "#0d0887"
             ],
             [
              0.1111111111111111,
              "#46039f"
             ],
             [
              0.2222222222222222,
              "#7201a8"
             ],
             [
              0.3333333333333333,
              "#9c179e"
             ],
             [
              0.4444444444444444,
              "#bd3786"
             ],
             [
              0.5555555555555556,
              "#d8576b"
             ],
             [
              0.6666666666666666,
              "#ed7953"
             ],
             [
              0.7777777777777778,
              "#fb9f3a"
             ],
             [
              0.8888888888888888,
              "#fdca26"
             ],
             [
              1,
              "#f0f921"
             ]
            ],
            "type": "contour"
           }
          ],
          "contourcarpet": [
           {
            "colorbar": {
             "outlinewidth": 0,
             "ticks": ""
            },
            "type": "contourcarpet"
           }
          ],
          "heatmap": [
           {
            "colorbar": {
             "outlinewidth": 0,
             "ticks": ""
            },
            "colorscale": [
             [
              0,
              "#0d0887"
             ],
             [
              0.1111111111111111,
              "#46039f"
             ],
             [
              0.2222222222222222,
              "#7201a8"
             ],
             [
              0.3333333333333333,
              "#9c179e"
             ],
             [
              0.4444444444444444,
              "#bd3786"
             ],
             [
              0.5555555555555556,
              "#d8576b"
             ],
             [
              0.6666666666666666,
              "#ed7953"
             ],
             [
              0.7777777777777778,
              "#fb9f3a"
             ],
             [
              0.8888888888888888,
              "#fdca26"
             ],
             [
              1,
              "#f0f921"
             ]
            ],
            "type": "heatmap"
           }
          ],
          "heatmapgl": [
           {
            "colorbar": {
             "outlinewidth": 0,
             "ticks": ""
            },
            "colorscale": [
             [
              0,
              "#0d0887"
             ],
             [
              0.1111111111111111,
              "#46039f"
             ],
             [
              0.2222222222222222,
              "#7201a8"
             ],
             [
              0.3333333333333333,
              "#9c179e"
             ],
             [
              0.4444444444444444,
              "#bd3786"
             ],
             [
              0.5555555555555556,
              "#d8576b"
             ],
             [
              0.6666666666666666,
              "#ed7953"
             ],
             [
              0.7777777777777778,
              "#fb9f3a"
             ],
             [
              0.8888888888888888,
              "#fdca26"
             ],
             [
              1,
              "#f0f921"
             ]
            ],
            "type": "heatmapgl"
           }
          ],
          "histogram": [
           {
            "marker": {
             "pattern": {
              "fillmode": "overlay",
              "size": 10,
              "solidity": 0.2
             }
            },
            "type": "histogram"
           }
          ],
          "histogram2d": [
           {
            "colorbar": {
             "outlinewidth": 0,
             "ticks": ""
            },
            "colorscale": [
             [
              0,
              "#0d0887"
             ],
             [
              0.1111111111111111,
              "#46039f"
             ],
             [
              0.2222222222222222,
              "#7201a8"
             ],
             [
              0.3333333333333333,
              "#9c179e"
             ],
             [
              0.4444444444444444,
              "#bd3786"
             ],
             [
              0.5555555555555556,
              "#d8576b"
             ],
             [
              0.6666666666666666,
              "#ed7953"
             ],
             [
              0.7777777777777778,
              "#fb9f3a"
             ],
             [
              0.8888888888888888,
              "#fdca26"
             ],
             [
              1,
              "#f0f921"
             ]
            ],
            "type": "histogram2d"
           }
          ],
          "histogram2dcontour": [
           {
            "colorbar": {
             "outlinewidth": 0,
             "ticks": ""
            },
            "colorscale": [
             [
              0,
              "#0d0887"
             ],
             [
              0.1111111111111111,
              "#46039f"
             ],
             [
              0.2222222222222222,
              "#7201a8"
             ],
             [
              0.3333333333333333,
              "#9c179e"
             ],
             [
              0.4444444444444444,
              "#bd3786"
             ],
             [
              0.5555555555555556,
              "#d8576b"
             ],
             [
              0.6666666666666666,
              "#ed7953"
             ],
             [
              0.7777777777777778,
              "#fb9f3a"
             ],
             [
              0.8888888888888888,
              "#fdca26"
             ],
             [
              1,
              "#f0f921"
             ]
            ],
            "type": "histogram2dcontour"
           }
          ],
          "mesh3d": [
           {
            "colorbar": {
             "outlinewidth": 0,
             "ticks": ""
            },
            "type": "mesh3d"
           }
          ],
          "parcoords": [
           {
            "line": {
             "colorbar": {
              "outlinewidth": 0,
              "ticks": ""
             }
            },
            "type": "parcoords"
           }
          ],
          "pie": [
           {
            "automargin": true,
            "type": "pie"
           }
          ],
          "scatter": [
           {
            "fillpattern": {
             "fillmode": "overlay",
             "size": 10,
             "solidity": 0.2
            },
            "type": "scatter"
           }
          ],
          "scatter3d": [
           {
            "line": {
             "colorbar": {
              "outlinewidth": 0,
              "ticks": ""
             }
            },
            "marker": {
             "colorbar": {
              "outlinewidth": 0,
              "ticks": ""
             }
            },
            "type": "scatter3d"
           }
          ],
          "scattercarpet": [
           {
            "marker": {
             "colorbar": {
              "outlinewidth": 0,
              "ticks": ""
             }
            },
            "type": "scattercarpet"
           }
          ],
          "scattergeo": [
           {
            "marker": {
             "colorbar": {
              "outlinewidth": 0,
              "ticks": ""
             }
            },
            "type": "scattergeo"
           }
          ],
          "scattergl": [
           {
            "marker": {
             "colorbar": {
              "outlinewidth": 0,
              "ticks": ""
             }
            },
            "type": "scattergl"
           }
          ],
          "scattermapbox": [
           {
            "marker": {
             "colorbar": {
              "outlinewidth": 0,
              "ticks": ""
             }
            },
            "type": "scattermapbox"
           }
          ],
          "scatterpolar": [
           {
            "marker": {
             "colorbar": {
              "outlinewidth": 0,
              "ticks": ""
             }
            },
            "type": "scatterpolar"
           }
          ],
          "scatterpolargl": [
           {
            "marker": {
             "colorbar": {
              "outlinewidth": 0,
              "ticks": ""
             }
            },
            "type": "scatterpolargl"
           }
          ],
          "scatterternary": [
           {
            "marker": {
             "colorbar": {
              "outlinewidth": 0,
              "ticks": ""
             }
            },
            "type": "scatterternary"
           }
          ],
          "surface": [
           {
            "colorbar": {
             "outlinewidth": 0,
             "ticks": ""
            },
            "colorscale": [
             [
              0,
              "#0d0887"
             ],
             [
              0.1111111111111111,
              "#46039f"
             ],
             [
              0.2222222222222222,
              "#7201a8"
             ],
             [
              0.3333333333333333,
              "#9c179e"
             ],
             [
              0.4444444444444444,
              "#bd3786"
             ],
             [
              0.5555555555555556,
              "#d8576b"
             ],
             [
              0.6666666666666666,
              "#ed7953"
             ],
             [
              0.7777777777777778,
              "#fb9f3a"
             ],
             [
              0.8888888888888888,
              "#fdca26"
             ],
             [
              1,
              "#f0f921"
             ]
            ],
            "type": "surface"
           }
          ],
          "table": [
           {
            "cells": {
             "fill": {
              "color": "#EBF0F8"
             },
             "line": {
              "color": "white"
             }
            },
            "header": {
             "fill": {
              "color": "#C8D4E3"
             },
             "line": {
              "color": "white"
             }
            },
            "type": "table"
           }
          ]
         },
         "layout": {
          "annotationdefaults": {
           "arrowcolor": "#2a3f5f",
           "arrowhead": 0,
           "arrowwidth": 1
          },
          "autotypenumbers": "strict",
          "coloraxis": {
           "colorbar": {
            "outlinewidth": 0,
            "ticks": ""
           }
          },
          "colorscale": {
           "diverging": [
            [
             0,
             "#8e0152"
            ],
            [
             0.1,
             "#c51b7d"
            ],
            [
             0.2,
             "#de77ae"
            ],
            [
             0.3,
             "#f1b6da"
            ],
            [
             0.4,
             "#fde0ef"
            ],
            [
             0.5,
             "#f7f7f7"
            ],
            [
             0.6,
             "#e6f5d0"
            ],
            [
             0.7,
             "#b8e186"
            ],
            [
             0.8,
             "#7fbc41"
            ],
            [
             0.9,
             "#4d9221"
            ],
            [
             1,
             "#276419"
            ]
           ],
           "sequential": [
            [
             0,
             "#0d0887"
            ],
            [
             0.1111111111111111,
             "#46039f"
            ],
            [
             0.2222222222222222,
             "#7201a8"
            ],
            [
             0.3333333333333333,
             "#9c179e"
            ],
            [
             0.4444444444444444,
             "#bd3786"
            ],
            [
             0.5555555555555556,
             "#d8576b"
            ],
            [
             0.6666666666666666,
             "#ed7953"
            ],
            [
             0.7777777777777778,
             "#fb9f3a"
            ],
            [
             0.8888888888888888,
             "#fdca26"
            ],
            [
             1,
             "#f0f921"
            ]
           ],
           "sequentialminus": [
            [
             0,
             "#0d0887"
            ],
            [
             0.1111111111111111,
             "#46039f"
            ],
            [
             0.2222222222222222,
             "#7201a8"
            ],
            [
             0.3333333333333333,
             "#9c179e"
            ],
            [
             0.4444444444444444,
             "#bd3786"
            ],
            [
             0.5555555555555556,
             "#d8576b"
            ],
            [
             0.6666666666666666,
             "#ed7953"
            ],
            [
             0.7777777777777778,
             "#fb9f3a"
            ],
            [
             0.8888888888888888,
             "#fdca26"
            ],
            [
             1,
             "#f0f921"
            ]
           ]
          },
          "colorway": [
           "#636efa",
           "#EF553B",
           "#00cc96",
           "#ab63fa",
           "#FFA15A",
           "#19d3f3",
           "#FF6692",
           "#B6E880",
           "#FF97FF",
           "#FECB52"
          ],
          "font": {
           "color": "#2a3f5f"
          },
          "geo": {
           "bgcolor": "white",
           "lakecolor": "white",
           "landcolor": "#E5ECF6",
           "showlakes": true,
           "showland": true,
           "subunitcolor": "white"
          },
          "hoverlabel": {
           "align": "left"
          },
          "hovermode": "closest",
          "mapbox": {
           "style": "light"
          },
          "paper_bgcolor": "white",
          "plot_bgcolor": "#E5ECF6",
          "polar": {
           "angularaxis": {
            "gridcolor": "white",
            "linecolor": "white",
            "ticks": ""
           },
           "bgcolor": "#E5ECF6",
           "radialaxis": {
            "gridcolor": "white",
            "linecolor": "white",
            "ticks": ""
           }
          },
          "scene": {
           "xaxis": {
            "backgroundcolor": "#E5ECF6",
            "gridcolor": "white",
            "gridwidth": 2,
            "linecolor": "white",
            "showbackground": true,
            "ticks": "",
            "zerolinecolor": "white"
           },
           "yaxis": {
            "backgroundcolor": "#E5ECF6",
            "gridcolor": "white",
            "gridwidth": 2,
            "linecolor": "white",
            "showbackground": true,
            "ticks": "",
            "zerolinecolor": "white"
           },
           "zaxis": {
            "backgroundcolor": "#E5ECF6",
            "gridcolor": "white",
            "gridwidth": 2,
            "linecolor": "white",
            "showbackground": true,
            "ticks": "",
            "zerolinecolor": "white"
           }
          },
          "shapedefaults": {
           "line": {
            "color": "#2a3f5f"
           }
          },
          "ternary": {
           "aaxis": {
            "gridcolor": "white",
            "linecolor": "white",
            "ticks": ""
           },
           "baxis": {
            "gridcolor": "white",
            "linecolor": "white",
            "ticks": ""
           },
           "bgcolor": "#E5ECF6",
           "caxis": {
            "gridcolor": "white",
            "linecolor": "white",
            "ticks": ""
           }
          },
          "title": {
           "x": 0.05
          },
          "xaxis": {
           "automargin": true,
           "gridcolor": "white",
           "linecolor": "white",
           "ticks": "",
           "title": {
            "standoff": 15
           },
           "zerolinecolor": "white",
           "zerolinewidth": 2
          },
          "yaxis": {
           "automargin": true,
           "gridcolor": "white",
           "linecolor": "white",
           "ticks": "",
           "title": {
            "standoff": 15
           },
           "zerolinecolor": "white",
           "zerolinewidth": 2
          }
         }
        },
        "title": {
         "text": "Top Incident Types by Day of the Week"
        },
        "xaxis": {
         "anchor": "y",
         "domain": [
          0,
          1
         ],
         "title": {
          "text": "Day of the Week"
         }
        },
        "yaxis": {
         "anchor": "x",
         "domain": [
          0,
          1
         ],
         "title": {
          "text": "Number of Incidents"
         }
        }
       }
      }
     },
     "metadata": {},
     "output_type": "display_data"
    }
   ],
   "source": [
    "import pandas as pd\n",
    "import plotly.express as px\n",
    "\n",
    "#load excel file\n",
    "calls_file_path = r'C:\\Users\\chari\\Documents\\Data Tech Analytics\\PDI__Police_Data_Initiative__Police_Calls_for_Service.csv'\n",
    "\n",
    "#load data\n",
    "calls_data = pd.read_csv(calls_file_path, low_memory=False)\n",
    "\n",
    "#convert incident creation time to datetime and get day of the week\n",
    "calls_data['CREATE_TIME_INCIDENT'] = pd.to_datetime(calls_data['CREATE_TIME_INCIDENT'], errors='coerce')\n",
    "calls_data['DAY_OF_WEEK'] = calls_data['CREATE_TIME_INCIDENT'].dt.day_name()\n",
    "\n",
    "#group by day of the week and incident type to count #\n",
    "incident_counts = calls_data.groupby(['DAY_OF_WEEK', 'INCIDENT_TYPE_ID']).size().reset_index(name='counts')\n",
    "\n",
    "#filter for the top 5 incident types\n",
    "top_incident_types = incident_counts['INCIDENT_TYPE_ID'].value_counts().nlargest(5).index\n",
    "filtered_data = incident_counts[incident_counts['INCIDENT_TYPE_ID'].isin(top_incident_types)]\n",
    "\n",
    "#day of week order for the bar chart\n",
    "day_order = ['Monday', 'Tuesday', 'Wednesday', 'Thursday', 'Friday', 'Saturday', 'Sunday']\n",
    "filtered_data['DAY_OF_WEEK'] = pd.Categorical(filtered_data['DAY_OF_WEEK'], categories=day_order, ordered=True)\n",
    "\n",
    "#stacked bar chart\n",
    "fig = px.bar(\n",
    "    filtered_data,\n",
    "    x='DAY_OF_WEEK',\n",
    "    y='counts',\n",
    "    color='INCIDENT_TYPE_ID',\n",
    "    title='Top Incident Types by Day of the Week',\n",
    "    text='counts',\n",
    "    barmode='stack'\n",
    ")\n",
    "\n",
    "#readability\n",
    "fig.update_layout(\n",
    "    xaxis_title='Day of the Week',\n",
    "    yaxis_title='Number of Incidents',\n",
    "    legend_title='Incident Type',\n",
    "    margin=dict(l=40, r=40, t=40, b=40)\n",
    ")\n",
    "\n",
    "fig.show()"
   ]
  },
  {
   "cell_type": "markdown",
   "metadata": {},
   "source": [
    "This graph illustrates the different types of incidents throughout the week. I used a stacked bar chart to visualize which days had the highest counts of incidents and the specific types involved. I noticed that \"WAR\" incidents were the most common across all days, which I looked up online and found that it stands for \"Weapons, Assault, and Robbery.\" Even though this term reprsents several types of incidents, it limits my ability to draw specific conclusions about the individual categories and the count of occurences for each. Following WAR incidents, the next most common types are non-urgent and urgent welfare checks. I find it interesting that the incident type with the fewest occurrence shows a clear count, but the second least common type does not display a specific count on top or inside the chart part making it appear nonexistent among the five incident types in the visualization."
   ]
  },
  {
   "cell_type": "markdown",
   "metadata": {},
   "source": [
    "## Data Cleaning and Transformations\n",
    "\n",
    "- Address missing values in the dataset.\n",
    "- Address duplicate values.\n",
    "- Address anomalies and outliers.\n",
    "- Convert and transform data types\n",
    "\n",
    "WHile cleaning the dataset, I first worked on dealing with the missing values, which were clearly present in various columns like CFS_NO and SUBJECT_GENDER. For columns with only a few missing values, I decided to fill them in with the most common value as I felt that was reasonable how we did with other exploratory data analyses before this assignment. But for others with significant missing gaps, like LATITUDE_X and LONGITUDE_X, I chose to drop those rows to maintain data integrity and make it easier for me to work with the data. Next I moved on to check for duplicate values and found that there were none, which is comforting because it means my data is clean for the most part. When looking for anomalies, I noticed some unusually high values in the PRIORITY column and I wil need to investigate those more to see if they skew or badly effect the analysis. Then I converted the CREATE_TIME_INCIDENT column to a datetime format to make it easier to work with and for better readability on the visualizations section. Overall, my cleaning process involved filling in missing data, checking for outliers, and making sure all data types are appropriate for analysis to assist me in preparing a solid dataset for more advanced exploration to answer the project question."
   ]
  },
  {
   "cell_type": "markdown",
   "metadata": {},
   "source": [
    "## Prior Feedback and Updates\n",
    "\n",
    "Since I do not see any feedback from a peer for my final project for checkpoint 1 or from the TA or professor, I can not complete this."
   ]
  },
  {
   "cell_type": "markdown",
   "metadata": {},
   "source": [
    "## Machine Learning Plan\n",
    "\n",
    "Since the checkpoint 2 is now being due before the introduction to Machine Learning module, I can not complete this last criteria in the rubric for Checkpoint 2: Exploratory Data Analysis & Visualization."
   ]
  },
  {
   "attachments": {},
   "cell_type": "markdown",
   "metadata": {},
   "source": [
    "## Resources and References\n",
    "*What resources and references have you used for this project?*\n",
    "📝 I have the 2 datasets the City of Cincinnati and 1 API from them as well. I might add more later on since I know there will be need for further research."
   ]
  },
  {
   "cell_type": "code",
   "execution_count": null,
   "metadata": {},
   "outputs": [],
   "source": [
    "# ⚠️ Make sure you run this cell at the end of your notebook before every submission!\n",
    "!jupyter nbconvert --to python source.ipynb"
   ]
  }
 ],
 "metadata": {
  "kernelspec": {
   "display_name": "Python 3",
   "language": "python",
   "name": "python3"
  },
  "language_info": {
   "codemirror_mode": {
    "name": "ipython",
    "version": 3
   },
   "file_extension": ".py",
   "mimetype": "text/x-python",
   "name": "python",
   "nbconvert_exporter": "python",
   "pygments_lexer": "ipython3",
   "version": "3.12.0"
  },
  "orig_nbformat": 4
 },
 "nbformat": 4,
 "nbformat_minor": 2
}
