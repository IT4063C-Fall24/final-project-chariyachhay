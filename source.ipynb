{
 "cells": [
  {
   "attachments": {},
   "cell_type": "markdown",
   "metadata": {},
   "source": [
    "# {Relationship Between Police Response Times and Crime Rates}📝\n",
    "\n",
    "![Banner](./assets/banner.jpeg)"
   ]
  },
  {
   "attachments": {},
   "cell_type": "markdown",
   "metadata": {},
   "source": [
    "## Topic\n",
    "*What problem are you (or your stakeholder) trying to address?*\n",
    "📝 The problem I am trying to address is the impact of police response times and on crime rates in Cincinnati. One reason why many parents may worry about putting their kids for University of Cincinnati as the surrounding areas are high in crime rates and can be very dangerous. By evaluating these datasets and API, it can help local law enforcement and community stakeholders analyze the effectiveness of police operations and how resources are being allocated. With the Cincinnati Police Data Initiative dataset, we can identify trends that reveal how different types of crimes have a relationship with varied response times on different neighborhoods and time periods. For example, if longer response times are consistently involved with increased crime rates, this can highlight the areas that need additional officers or resources etc. to improve community safety. This project is meant to uncover patterns that can guide our law enforcement to make more efficient policing strategies and contribute to the overall safety and well-being of Cincinnati's residents, including UC students!!!\n"
   ]
  },
  {
   "attachments": {},
   "cell_type": "markdown",
   "metadata": {},
   "source": [
    "## Project Question\n",
    "*What specific question are you seeking to answer with this project?*\n",
    "*This is not the same as the questions you ask to limit the scope of the project.*\n",
    "📝 With this project, I am seeking to answer the specific question: How do police response times correlate with different types of crime rates in Cincinnati. What suggestions does this relationship have for resource allocation and community safety? \n",
    "\n",
    "By exploring this question, I want to find out if longer response times lead to higher crime rates, identify which neighborhoods/areas are most affected, and assess the effectiveness of our current policing strategies. Also I want to understand if certain types of crimes have faster response rates or vice verse, and thus this could educate targeted civilians and cause some policy adjustments. Overall this analysis will help guide decisions on how to optimize police resources and enhance public safety and build more community trust in our law enforcement."
   ]
  },
  {
   "attachments": {},
   "cell_type": "markdown",
   "metadata": {},
   "source": [
    "## What would an answer look like?\n",
    "*What is your hypothesized answer to your question?*\n",
    "📝 My hypothesized answer is that longer police response times are related with higher crime rates in Cincinnati. I expect to discover that areas with longer response times experience a greater number of violent crimes, like assault and robbery, compared to property crimes. And these may be less influenced by immediate and more quick police presence. Also, I believe that certain neighborhoods, particularly those with fewer police resources, will show more inequalities in crime rates related to response times. This analysis may expose that quick responses are imperative in preventing crimes and/or addressing ongoing incidents effectively. In conclusion, the findings could indicate a need for reallocating police resources to enhance response procedures in areas with high-crime."
   ]
  },
  {
   "attachments": {},
   "cell_type": "markdown",
   "metadata": {},
   "source": [
    "## Data Sources\n",
    "*What 3 data sources have you identified for this project?*\n",
    "*How are you going to relate these datasets?*\n",
    "📝 3 data sources in total\n",
    "\n",
    "Datasets (2): \n",
    "https://data.cincinnati-oh.gov/safety/PDI-Police-Data-Initiative-Police-Calls-for-Servic/gexm-h6bt/about_data\n",
    "https://data.cincinnati-oh.gov/safety/PDI-Police-Data-Initiative-Crime-Incidents/k59e-2pvf/about_data\n",
    "\n",
    "API (1):\n",
    "https://dev.socrata.com/foundry/data.cincinnati-oh.gov/k59e-2pvf\n",
    "\n",
    "I am going to relate these data sources by connecting the Police Calls for Service and Crime Incidents dataset by utilizing the shared timestamps and locations. This will allow us to examine how response times for different types of calls, like violent or property crimes, relate to the frequency and outcomes of incidents in the same areas.\n",
    "\n",
    "By linking crime types from the Crime Incidents dataset with their corresponding calls for service, we can analyze how response times differ depending on the severity or nature of the crime. This will provide valuable insights into the relationship between response times and crime rates.\n",
    "\n",
    "Also via using the geographical information from both datasets, we can conduct a neighborhood-level analysis. This will help us explore how response times and crime rates vary across different areas and assess whether these differences contribute to higher crime rates in specific neighborhoods or influence the effectiveness of police response strategies.\n"
   ]
  },
  {
   "attachments": {},
   "cell_type": "markdown",
   "metadata": {},
   "source": [
    "## Approach and Analysis\n",
    "*What is your approach to answering your project question?*\n",
    "*How will you use the identified data to answer your project question?*\n",
    "📝 My approach to answering my project question is a systematic one. I will being by starting with data preparation and analysis. That means I will clean both the Police Calls for Service and Crime Incidents datasets, to make sure fields like timestamps and location data etc are all consistent. Then move onto handling any missing or irrelevant data so it will mess up later on in the project. Next, I will merge the two datasets by matching incidents based on time and location. This will allow me to link calls for service with the corresponding crime events. When I am calculating response times for each call it will help determine the time difference between when the call was made and when the officers actually arrived on the scene. Moving on, we will analyze how response times vary for the different types of crime like violent and property crimes. Then we can use those findings to investigate patterns in how severe they were. It can also help us assess whether delays in certain areas are contributing to crime patterns or affecting police effectiveness. Then finally I will use statistical methods to explore the relationship between response times and crime outcomes more closer, like through regression modeling for instance."
   ]
  },
  {
   "cell_type": "code",
   "execution_count": 6,
   "metadata": {},
   "outputs": [
    {
     "name": "stdout",
     "output_type": "stream",
     "text": [
      "API Data Loaded: 1000 records.\n"
     ]
    }
   ],
   "source": [
    "import pandas as pd\n",
    "import requests\n",
    "\n",
    "#accessing API for Crime Incidents data\n",
    "api_url = 'https://data.cincinnati-oh.gov/resource/k59e-2pvf.json'\n",
    "headers = {'Accept': 'application/json'}  #requesting JSON response\n",
    "response = requests.get(api_url, headers=headers)\n",
    "\n",
    "#check if the API call was successful\n",
    "if response.status_code == 200:\n",
    "    api_data = pd.DataFrame(response.json())  #load the data into a df\n",
    "    print(f\"API Data Loaded: {len(api_data)} records.\")  #check number of records loaded\n",
    "else:\n",
    "    print(f\"API request failed with status code: {response.status_code}\")\n"
   ]
  },
  {
   "cell_type": "code",
   "execution_count": 12,
   "metadata": {},
   "outputs": [
    {
     "name": "stdout",
     "output_type": "stream",
     "text": [
      "Police Calls for Service Data (First 5 Rows):\n",
      "               ADDRESS_X AGENCY    CREATE_TIME_INCIDENT DISPOSITION_TEXT  \\\n",
      "0        12XX PURCELL AV    CPD  11/15/2021 11:03:58 PM         INV: INV   \n",
      "1      46XX RAPID RUN RD    CPD  11/15/2021 11:03:34 PM      ADV:ADVISED   \n",
      "2  3XX EZZARD CHARLES DR    CPD  11/15/2021 11:00:58 PM  TRAN: TRANSPORT   \n",
      "3       XX E MCMICKEN AV    CPD  11/15/2021 11:00:01 PM         INV: INV   \n",
      "4      19XX BALTIMORE AV    CPD  11/15/2021 10:59:48 PM       REPO: REPO   \n",
      "\n",
      "      EVENT_NUMBER INCIDENT_TYPE_ID                INCIDENT_TYPE_DESC  \\\n",
      "0  CPD211115001474             MHRT        MENTALLY IMPAIRED NON VIOL   \n",
      "1  CPD211115001473              ADV                  ADVISED INCIDENT   \n",
      "2  CPD211115001472             PRIS                  PRISONER PICK UP   \n",
      "3  CPD211115001470           DIRPAT         DIRECTED PATROL - VEHICLE   \n",
      "4  CPD211115001469             REPO  TOWED VEH - FOR RECORDS USE ONLY   \n",
      "\n",
      "   PRIORITY PRIORITY_COLOR ARRIVAL_TIME_PRIMARY_UNIT    CLOSED_TIME_INCIDENT  \\\n",
      "0      11.0           BLUE    11/15/2021 11:13:48 PM  11/15/2021 11:46:53 PM   \n",
      "1      35.0         PURPLE                       NaN  11/15/2021 11:03:34 PM   \n",
      "2      34.0         PURPLE                       NaN  11/15/2021 11:41:59 PM   \n",
      "3      27.0         PURPLE    11/15/2021 11:28:55 PM  11/15/2021 11:31:51 PM   \n",
      "4      35.0         PURPLE                       NaN  11/15/2021 11:01:12 PM   \n",
      "\n",
      "  DISPATCH_TIME_PRIMARY_UNIT  BEAT  DISTRICT SNA_NEIGHBORHOOD  \\\n",
      "0     11/15/2021 11:10:17 PM  P321       3.0              NaN   \n",
      "1                        NaN  P321       3.0              NaN   \n",
      "2     11/15/2021 11:01:37 PM  P131       1.0              NaN   \n",
      "3     11/15/2021 11:20:39 PM  P121       1.0              NaN   \n",
      "4                        NaN  P351       3.0              NaN   \n",
      "\n",
      "  CPD_NEIGHBORHOOD COMMUNITY_COUNCIL_NEIGHBORHOOD  LATITUDE_X  LONGITUDE_X  \n",
      "0  EAST PRICE HILL                EAST PRICE HILL   39.112992   -84.564666  \n",
      "1  WEST PRICE HILL                WEST PRICE HILL   39.113506   -84.593472  \n",
      "2        WEST  END                       WEST END   39.109602   -84.521819  \n",
      "3   OVER-THE-RHINE                            OTR   39.115838   -84.516012  \n",
      "4   ENGLISH  WOODS                NORTH FAIRMOUNT   39.138031   -84.559785  \n"
     ]
    }
   ],
   "source": [
    "import pandas as pd\n",
    "\n",
    "#load the Police Calls for Service dataset\n",
    "calls_for_service_url = 'https://data.cincinnati-oh.gov/api/views/gexm-h6bt/rows.csv?accessType=DOWNLOAD'\n",
    "\n",
    "#display the first five rows of the dataset\n",
    "print(\"Police Calls for Service Data (First 5 Rows):\")\n",
    "print(calls_for_service_data.head())\n"
   ]
  },
  {
   "cell_type": "code",
   "execution_count": 20,
   "metadata": {},
   "outputs": [
    {
     "name": "stdout",
     "output_type": "stream",
     "text": [
      "Crime Incidents Data (First 5 Rows):\n",
      "                             INSTANCEID INCIDENT_NO           DATE_REPORTED  \\\n",
      "0  11F33AFB-8553-4AC5-8BE2-7EDBB40746A3   249014580  06/03/2024 03:56:00 AM   \n",
      "1  977A4054-BBF4-4FE7-A49A-5863F3101FD2   249014578  06/03/2024 03:30:00 AM   \n",
      "2  EC8438D0-B99E-4A8C-B6ED-8A9FF60B3069   249014579  06/03/2024 03:15:00 AM   \n",
      "3  EC8438D0-B99E-4A8C-B6ED-8A9FF60B3069   249014579  06/03/2024 03:15:00 AM   \n",
      "4  7E176D2F-B81F-4A39-8AFF-761840BA15A3   249014573  06/03/2024 02:13:00 AM   \n",
      "\n",
      "                DATE_FROM                 DATE_TO  \\\n",
      "0  06/03/2024 03:45:00 AM  06/03/2024 03:50:00 AM   \n",
      "1  06/03/2024 03:00:00 AM  06/03/2024 03:05:00 AM   \n",
      "2  06/03/2024 03:10:00 AM  06/03/2024 03:14:00 AM   \n",
      "3  06/03/2024 03:10:00 AM  06/03/2024 03:14:00 AM   \n",
      "4  06/03/2024 02:10:00 AM  06/03/2024 02:13:00 AM   \n",
      "\n",
      "                           CLSD     UCR               DST BEAT  \\\n",
      "0                     J--CLOSED   303.0  CENTRAL BUSINESS    1   \n",
      "1                  K--UNFOUNDED   401.0  CENTRAL BUSINESS    1   \n",
      "2  F--CLEARED BY ARREST - ADULT  1401.0                 1    2   \n",
      "3  F--CLEARED BY ARREST - ADULT   303.0                 1    2   \n",
      "4                  K--UNFOUNDED   551.0                 3    6   \n",
      "\n",
      "              OFFENSE  ... SUSPECT_AGE SUSPECT_RACE SUSPECT_ETHNICITY  \\\n",
      "0  AGGRAVATED ROBBERY  ...       26-30          NaN               NaN   \n",
      "1   FELONIOUS ASSAULT  ...     UNKNOWN          NaN               NaN   \n",
      "2           VANDALISM  ...     UNKNOWN          NaN               NaN   \n",
      "3  AGGRAVATED ROBBERY  ...     UNKNOWN          NaN               NaN   \n",
      "4            BURGLARY  ...    UNDER 18          NaN               NaN   \n",
      "\n",
      "  SUSPECT_GENDER TOTALNUMBERVICTIMS TOTALSUSPECTS                   UCR_GROUP  \\\n",
      "0           MALE                NaN           NaN                     ROBBERY   \n",
      "1         FEMALE                NaN           NaN         AGGRAVATED ASSAULTS   \n",
      "2            NaN                NaN           NaN                PART 2 MINOR   \n",
      "3            NaN                NaN           NaN                     ROBBERY   \n",
      "4           MALE                NaN           NaN  BURGLARY/BREAKING ENTERING   \n",
      "\n",
      "       ZIP COMMUNITY_COUNCIL_NEIGHBORHOOD SNA_NEIGHBORHOOD  \n",
      "0  45202.0                       DOWNTOWN         DOWNTOWN  \n",
      "1  45202.0                       DOWNTOWN         DOWNTOWN  \n",
      "2  45202.0                            NaN              NaN  \n",
      "3  45202.0                            NaN              NaN  \n",
      "4  45223.0                            NaN              NaN  \n",
      "\n",
      "[5 rows x 40 columns]\n"
     ]
    }
   ],
   "source": [
    "import pandas as pd\n",
    "\n",
    "#load the Crime Incidents dataset\n",
    "crime_incidents_url = 'https://data.cincinnati-oh.gov/api/views/k59e-2pvf/rows.csv?accessType=DOWNLOAD'\n",
    "\n",
    "#display the first five rows of the dataset\n",
    "print(\"Crime Incidents Data (First 5 Rows):\")\n",
    "print(crime_incidents_data.head())"
   ]
  },
  {
   "attachments": {},
   "cell_type": "markdown",
   "metadata": {},
   "source": [
    "## Resources and References\n",
    "*What resources and references have you used for this project?*\n",
    "📝 I have the 2 datasets the City of Cincinnati and 1 API from them as well. I might add more later on since I know there will be need for further research."
   ]
  },
  {
   "cell_type": "code",
   "execution_count": 18,
   "metadata": {},
   "outputs": [
    {
     "name": "stderr",
     "output_type": "stream",
     "text": [
      "usage: jupyter [-h] [--version] [--config-dir] [--data-dir] [--runtime-dir]\n",
      "               [--paths] [--json] [--debug]\n",
      "               [subcommand]\n",
      "\n",
      "Jupyter: Interactive Computing\n",
      "\n",
      "positional arguments:\n",
      "  subcommand     the subcommand to launch\n",
      "\n",
      "options:\n",
      "  -h, --help     show this help message and exit\n",
      "  --version      show the versions of core jupyter packages and exit\n",
      "  --config-dir   show Jupyter config dir\n",
      "  --data-dir     show Jupyter data dir\n",
      "  --runtime-dir  show Jupyter runtime dir\n",
      "  --paths        show all Jupyter paths. Add --json for machine-readable\n",
      "                 format.\n",
      "  --json         output paths as machine-readable json\n",
      "  --debug        output debug information about paths\n",
      "\n",
      "Available subcommands: kernel kernelspec migrate run troubleshoot\n",
      "\n",
      "Jupyter command `jupyter-nbconvert` not found.\n"
     ]
    }
   ],
   "source": [
    "# ⚠️ Make sure you run this cell at the end of your notebook before every submission!\n",
    "!jupyter nbconvert --to python source.ipynb"
   ]
  }
 ],
 "metadata": {
  "kernelspec": {
   "display_name": "Python 3",
   "language": "python",
   "name": "python3"
  },
  "language_info": {
   "codemirror_mode": {
    "name": "ipython",
    "version": 3
   },
   "file_extension": ".py",
   "mimetype": "text/x-python",
   "name": "python",
   "nbconvert_exporter": "python",
   "pygments_lexer": "ipython3",
   "version": "3.11.9"
  },
  "orig_nbformat": 4
 },
 "nbformat": 4,
 "nbformat_minor": 2
}
