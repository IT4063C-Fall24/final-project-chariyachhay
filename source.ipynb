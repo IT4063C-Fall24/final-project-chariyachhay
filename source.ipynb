{
 "cells": [
  {
   "attachments": {},
   "cell_type": "markdown",
   "metadata": {},
   "source": [
    "# {How Crime Incidents in Cincinnati Vary Over Time and Across Different Neighborhoods in 2024?}📝\n",
    "\n",
    "![Banner](./assets/banner.jpeg)"
   ]
  },
  {
   "attachments": {},
   "cell_type": "markdown",
   "metadata": {},
   "source": [
    "## Topic\n",
    "*What problem are you (or your stakeholder) trying to address?*\n",
    "📝 How do crime incidents in Cincinnati vary over time and across different neighborhoods? The problem I am trying to address is the impact of police response times and on crime rates in Cincinnati. One reason why many parents may worry about putting their kids for University of Cincinnati as the surrounding areas are high in crime rates and can be very dangerous. By evaluating these datasets and API, it can help local law enforcement and community stakeholders analyze the effectiveness of police operations and how resources are being allocated. With the Cincinnati Police Data Initiative dataset, we can identify trends that reveal how different types of crimes have a relationship with varied response times on different neighborhoods and time periods. For example, if longer response times are consistently involved with increased crime rates, this can highlight the areas that need additional officers or resources etc. to improve community safety. This project is meant to uncover patterns that can guide our law enforcement to make more efficient policing strategies and contribute to the overall safety and well-being of Cincinnati's residents, including UC students!!!\n"
   ]
  },
  {
   "attachments": {},
   "cell_type": "markdown",
   "metadata": {},
   "source": [
    "## Project Question\n",
    "*What specific question are you seeking to answer with this project?*\n",
    "*This is not the same as the questions you ask to limit the scope of the project.*\n",
    "📝 With this project, I am seeking to answer the specific question: How do police response times correlate with different types of crime rates in Cincinnati. What suggestions does this relationship have for resource allocation and community safety? \n",
    "\n",
    "By exploring this question, I want to find out if longer response times lead to higher crime rates, identify which neighborhoods/areas are most affected, and assess the effectiveness of our current policing strategies. Also I want to understand if certain types of crimes have faster response rates or vice verse, and thus this could educate targeted civilians and cause some policy adjustments. Overall this analysis will help guide decisions on how to optimize police resources and enhance public safety and build more community trust in our law enforcement."
   ]
  },
  {
   "attachments": {},
   "cell_type": "markdown",
   "metadata": {},
   "source": [
    "## What would an answer look like?\n",
    "*What is your hypothesized answer to your question?*\n",
    "📝 My hypothesized answer is that longer police response times are related with higher crime rates in Cincinnati. I expect to discover that areas with longer response times experience a greater number of violent crimes, like assault and robbery, compared to property crimes. And these may be less influenced by immediate and more quick police presence. Also, I believe that certain neighborhoods, particularly those with fewer police resources, will show more inequalities in crime rates related to response times. This analysis may expose that quick responses are imperative in preventing crimes and/or addressing ongoing incidents effectively. In conclusion, the findings could indicate a need for reallocating police resources to enhance response procedures in areas with high-crime."
   ]
  },
  {
   "attachments": {},
   "cell_type": "markdown",
   "metadata": {},
   "source": [
    "## Data Sources\n",
    "*What 3 data sources have you identified for this project?*\n",
    "*How are you going to relate these datasets?*\n",
    "📝 5 data sources in total\n",
    "\n",
    "Datasets (4): \n",
    "https://data.cincinnati-oh.gov/safety/PDI-Police-Data-Initiative-Police-Calls-for-Servic/gexm-h6bt/about_data\n",
    "https://data.cincinnati-oh.gov/safety/PDI-Police-Data-Initiative-Crime-Incidents/k59e-2pvf/about_data\n",
    "https://data.cincinnati-oh.gov/safety/CPD-Reported-Shootings/sfea-4ksu/about_data\n",
    "https://data.cincinnati-oh.gov/Safety/PDI-Police-Data-Initiative-Use-of-Force/8us8-wi2w/about_data\n",
    "\n",
    "API (1):\n",
    "https://dev.socrata.com/foundry/data.cincinnati-oh.gov/k59e-2pvf\n",
    "\n",
    "I am going to relate these data sources by connecting the Police Calls for Service and Crime Incidents dataset by utilizing the shared timestamps and locations. This will allow us to examine how response times for different types of calls, like violent or property crimes, relate to the frequency and outcomes of incidents in the same areas.\n",
    "\n",
    "By linking crime types from the Crime Incidents dataset with their corresponding calls for service, we can analyze how response times differ depending on the severity or nature of the crime. This will provide valuable insights into the relationship between response times and crime rates.\n",
    "\n",
    "Also via using the geographical information from both datasets, we can conduct a neighborhood-level analysis. This will help us explore how response times and crime rates vary across different areas and assess whether these differences contribute to higher crime rates in specific neighborhoods or influence the effectiveness of police response strategies.\n"
   ]
  },
  {
   "attachments": {},
   "cell_type": "markdown",
   "metadata": {},
   "source": [
    "## Approach and Analysis\n",
    "*What is your approach to answering your project question?*\n",
    "*How will you use the identified data to answer your project question?*\n",
    "📝 My approach to answering my project question is a systematic one. I will being by starting with data preparation and analysis. That means I will clean both the Police Calls for Service and Crime Incidents datasets, to make sure fields like timestamps and location data etc are all consistent. Then move onto handling any missing or irrelevant data so it will mess up later on in the project. Next, I will merge the two datasets by matching incidents based on time and location. This will allow me to link calls for service with the corresponding crime events. When I am calculating response times for each call it will help determine the time difference between when the call was made and when the officers actually arrived on the scene. Moving on, we will analyze how response times vary for the different types of crime like violent and property crimes. Then we can use those findings to investigate patterns in how severe they were. It can also help us assess whether delays in certain areas are contributing to crime patterns or affecting police effectiveness. Then finally I will use statistical methods to explore the relationship between response times and crime outcomes more closer, like through regression modeling for instance."
   ]
  },
  {
   "cell_type": "code",
   "execution_count": 6,
   "metadata": {},
   "outputs": [
    {
     "name": "stdout",
     "output_type": "stream",
     "text": [
      "API Data Loaded: 1000 records.\n"
     ]
    }
   ],
   "source": [
    "import pandas as pd\n",
    "import requests\n",
    "\n",
    "#accessing API for Crime Incidents data\n",
    "api_url = 'https://data.cincinnati-oh.gov/resource/k59e-2pvf.json'\n",
    "headers = {'Accept': 'application/json'}  #requesting JSON response\n",
    "response = requests.get(api_url, headers=headers)\n",
    "\n",
    "#check if the API call was successful\n",
    "if response.status_code == 200:\n",
    "    api_data = pd.DataFrame(response.json())  #load the data into a df\n",
    "    print(f\"API Data Loaded: {len(api_data)} records.\")  #check number of records loaded\n",
    "else:\n",
    "    print(f\"API request failed with status code: {response.status_code}\")\n"
   ]
  },
  {
   "cell_type": "code",
   "execution_count": 46,
   "metadata": {},
   "outputs": [
    {
     "name": "stdout",
     "output_type": "stream",
     "text": [
      "Police Calls for Service Data (First 5 Rows):\n"
     ]
    },
    {
     "ename": "NameError",
     "evalue": "name 'calls_for_service_data' is not defined",
     "output_type": "error",
     "traceback": [
      "\u001b[1;31m---------------------------------------------------------------------------\u001b[0m",
      "\u001b[1;31mNameError\u001b[0m                                 Traceback (most recent call last)",
      "Cell \u001b[1;32mIn[46], line 8\u001b[0m\n\u001b[0;32m      6\u001b[0m \u001b[38;5;66;03m#display the first five rows of the dataset\u001b[39;00m\n\u001b[0;32m      7\u001b[0m \u001b[38;5;28mprint\u001b[39m(\u001b[38;5;124m\"\u001b[39m\u001b[38;5;124mPolice Calls for Service Data (First 5 Rows):\u001b[39m\u001b[38;5;124m\"\u001b[39m)\n\u001b[1;32m----> 8\u001b[0m \u001b[38;5;28mprint\u001b[39m(\u001b[43mcalls_for_service_data\u001b[49m\u001b[38;5;241m.\u001b[39mhead())\n",
      "\u001b[1;31mNameError\u001b[0m: name 'calls_for_service_data' is not defined"
     ]
    }
   ],
   "source": [
    "import pandas as pd\n",
    "\n",
    "#load the Police Calls for Service dataset\n",
    "calls_for_service_url = 'https://data.cincinnati-oh.gov/api/views/gexm-h6bt/rows.csv?accessType=DOWNLOAD'\n",
    "\n",
    "#display the first five rows of the dataset\n",
    "print(\"Police Calls for Service Data (First 5 Rows):\")\n",
    "print(calls_for_service_data.head())\n"
   ]
  },
  {
   "cell_type": "code",
   "execution_count": 20,
   "metadata": {},
   "outputs": [
    {
     "name": "stdout",
     "output_type": "stream",
     "text": [
      "Crime Incidents Data (First 5 Rows):\n",
      "                             INSTANCEID INCIDENT_NO           DATE_REPORTED  \\\n",
      "0  11F33AFB-8553-4AC5-8BE2-7EDBB40746A3   249014580  06/03/2024 03:56:00 AM   \n",
      "1  977A4054-BBF4-4FE7-A49A-5863F3101FD2   249014578  06/03/2024 03:30:00 AM   \n",
      "2  EC8438D0-B99E-4A8C-B6ED-8A9FF60B3069   249014579  06/03/2024 03:15:00 AM   \n",
      "3  EC8438D0-B99E-4A8C-B6ED-8A9FF60B3069   249014579  06/03/2024 03:15:00 AM   \n",
      "4  7E176D2F-B81F-4A39-8AFF-761840BA15A3   249014573  06/03/2024 02:13:00 AM   \n",
      "\n",
      "                DATE_FROM                 DATE_TO  \\\n",
      "0  06/03/2024 03:45:00 AM  06/03/2024 03:50:00 AM   \n",
      "1  06/03/2024 03:00:00 AM  06/03/2024 03:05:00 AM   \n",
      "2  06/03/2024 03:10:00 AM  06/03/2024 03:14:00 AM   \n",
      "3  06/03/2024 03:10:00 AM  06/03/2024 03:14:00 AM   \n",
      "4  06/03/2024 02:10:00 AM  06/03/2024 02:13:00 AM   \n",
      "\n",
      "                           CLSD     UCR               DST BEAT  \\\n",
      "0                     J--CLOSED   303.0  CENTRAL BUSINESS    1   \n",
      "1                  K--UNFOUNDED   401.0  CENTRAL BUSINESS    1   \n",
      "2  F--CLEARED BY ARREST - ADULT  1401.0                 1    2   \n",
      "3  F--CLEARED BY ARREST - ADULT   303.0                 1    2   \n",
      "4                  K--UNFOUNDED   551.0                 3    6   \n",
      "\n",
      "              OFFENSE  ... SUSPECT_AGE SUSPECT_RACE SUSPECT_ETHNICITY  \\\n",
      "0  AGGRAVATED ROBBERY  ...       26-30          NaN               NaN   \n",
      "1   FELONIOUS ASSAULT  ...     UNKNOWN          NaN               NaN   \n",
      "2           VANDALISM  ...     UNKNOWN          NaN               NaN   \n",
      "3  AGGRAVATED ROBBERY  ...     UNKNOWN          NaN               NaN   \n",
      "4            BURGLARY  ...    UNDER 18          NaN               NaN   \n",
      "\n",
      "  SUSPECT_GENDER TOTALNUMBERVICTIMS TOTALSUSPECTS                   UCR_GROUP  \\\n",
      "0           MALE                NaN           NaN                     ROBBERY   \n",
      "1         FEMALE                NaN           NaN         AGGRAVATED ASSAULTS   \n",
      "2            NaN                NaN           NaN                PART 2 MINOR   \n",
      "3            NaN                NaN           NaN                     ROBBERY   \n",
      "4           MALE                NaN           NaN  BURGLARY/BREAKING ENTERING   \n",
      "\n",
      "       ZIP COMMUNITY_COUNCIL_NEIGHBORHOOD SNA_NEIGHBORHOOD  \n",
      "0  45202.0                       DOWNTOWN         DOWNTOWN  \n",
      "1  45202.0                       DOWNTOWN         DOWNTOWN  \n",
      "2  45202.0                            NaN              NaN  \n",
      "3  45202.0                            NaN              NaN  \n",
      "4  45223.0                            NaN              NaN  \n",
      "\n",
      "[5 rows x 40 columns]\n"
     ]
    }
   ],
   "source": [
    "import pandas as pd\n",
    "\n",
    "#load the Crime Incidents dataset\n",
    "crime_incidents_url = 'https://data.cincinnati-oh.gov/api/views/k59e-2pvf/rows.csv?accessType=DOWNLOAD'\n",
    "\n",
    "#display the first five rows of the dataset\n",
    "print(\"Crime Incidents Data (First 5 Rows):\")\n",
    "print(crime_incidents_data.head())"
   ]
  },
  {
   "cell_type": "markdown",
   "metadata": {},
   "source": [
    "## Checkpoint 2 "
   ]
  },
  {
   "cell_type": "markdown",
   "metadata": {},
   "source": [
    "## Exploratory Data Analysis (EDA) & Visualization\n",
    "\n",
    "- Produce statistical summaries of the data.\n",
    "- Analyze data distributions of the data.\n",
    "- Analyze the correlations between the data features.\n",
    "- Identify data issues.\n",
    "- Identify data types that need to be converted/transformed.\n",
    "- Provide a detailed write-up on every item above."
   ]
  },
  {
   "cell_type": "code",
   "execution_count": 37,
   "metadata": {},
   "outputs": [
    {
     "name": "stdout",
     "output_type": "stream",
     "text": [
      "Summary of API Data:\n",
      "<class 'pandas.core.frame.DataFrame'>\n",
      "RangeIndex: 1000 entries, 0 to 999\n",
      "Data columns (total 34 columns):\n",
      " #   Column                          Non-Null Count  Dtype \n",
      "---  ------                          --------------  ----- \n",
      " 0   instanceid                      1000 non-null   object\n",
      " 1   incident_no                     1000 non-null   object\n",
      " 2   date_reported                   1000 non-null   object\n",
      " 3   date_from                       1000 non-null   object\n",
      " 4   date_to                         1000 non-null   object\n",
      " 5   clsd                            994 non-null    object\n",
      " 6   ucr                             990 non-null    object\n",
      " 7   dst                             1000 non-null   object\n",
      " 8   beat                            999 non-null    object\n",
      " 9   offense                         990 non-null    object\n",
      " 10  location                        1000 non-null   object\n",
      " 11  dayofweek                       991 non-null    object\n",
      " 12  rpt_area                        991 non-null    object\n",
      " 13  cpd_neighborhood                991 non-null    object\n",
      " 14  weapons                         1000 non-null   object\n",
      " 15  date_of_clearance               967 non-null    object\n",
      " 16  hour_from                       1000 non-null   int64 \n",
      " 17  hour_to                         1000 non-null   object\n",
      " 18  address_x                       818 non-null    object\n",
      " 19  longitude_x                     797 non-null    object\n",
      " 20  latitude_x                      797 non-null    object\n",
      " 21  victim_age                      1000 non-null   object\n",
      " 22  victim_gender                   854 non-null    object\n",
      " 23  suspect_age                     1000 non-null   object\n",
      " 24  suspect_gender                  592 non-null    object\n",
      " 25  ucr_group                       990 non-null    object\n",
      " 26  zip                             1000 non-null   object\n",
      " 27  community_council_neighborhood  1000 non-null   object\n",
      " 28  sna_neighborhood                1000 non-null   object\n",
      " 29  theft_code                      337 non-null    object\n",
      " 30  victim_ethnicity                13 non-null     object\n",
      " 31  totalnumbervictims              10 non-null     object\n",
      " 32  hate_bias                       3 non-null      object\n",
      " 33  suspect_ethnicity               1 non-null      object\n",
      "dtypes: int64(1), object(33)\n",
      "memory usage: 265.8+ KB\n",
      "None\n",
      "\n",
      "\n",
      "Statistics for API Data:\n",
      "        hour_from\n",
      "count  1000.00000\n",
      "mean    741.35300\n",
      "std     790.34408\n",
      "min       0.00000\n",
      "25%     120.00000\n",
      "50%     230.00000\n",
      "75%    1471.50000\n",
      "max    2350.00000\n",
      "\n",
      "\n",
      "Number of duplicate records in API Data: 53\n",
      "Duplicate records dropped from API Data.\n",
      "\n",
      "\n",
      "Missing values in API Data:\n",
      "instanceid                          0\n",
      "incident_no                         0\n",
      "date_reported                       0\n",
      "date_from                           0\n",
      "date_to                             0\n",
      "clsd                                6\n",
      "ucr                                10\n",
      "dst                                 0\n",
      "beat                                1\n",
      "offense                            10\n",
      "location                            0\n",
      "dayofweek                           9\n",
      "rpt_area                            9\n",
      "cpd_neighborhood                    9\n",
      "weapons                             0\n",
      "date_of_clearance                  33\n",
      "hour_from                           0\n",
      "hour_to                             0\n",
      "address_x                         131\n",
      "longitude_x                       150\n",
      "latitude_x                        150\n",
      "victim_age                          0\n",
      "victim_gender                     136\n",
      "suspect_age                         0\n",
      "suspect_gender                    407\n",
      "ucr_group                          10\n",
      "zip                                 0\n",
      "community_council_neighborhood      0\n",
      "sna_neighborhood                    0\n",
      "theft_code                        611\n",
      "victim_ethnicity                  934\n",
      "totalnumbervictims                937\n",
      "hate_bias                         944\n",
      "suspect_ethnicity                 946\n",
      "dtype: int64\n",
      "\n",
      "\n",
      "Summary of Shootings Data:\n",
      "<class 'pandas.core.frame.DataFrame'>\n",
      "RangeIndex: 1490 entries, 0 to 1489\n",
      "Data columns (total 16 columns):\n",
      " #   Column                          Non-Null Count  Dtype  \n",
      "---  ------                          --------------  -----  \n",
      " 0   District                        1489 non-null   object \n",
      " 1   StreetBlock                     1489 non-null   object \n",
      " 2   LATITUDE_X                      1484 non-null   float64\n",
      " 3   LONGITUDE_X                     1484 non-null   float64\n",
      " 4   SNA_NEIGHBORHOOD                1480 non-null   object \n",
      " 5   ShootID                         1490 non-null   int64  \n",
      " 6   RMS_No                          1490 non-null   object \n",
      " 7   Race                            1490 non-null   object \n",
      " 8   Sex                             1490 non-null   object \n",
      " 9   Age                             1490 non-null   int64  \n",
      " 10  Type                            1490 non-null   object \n",
      " 11  YearOccurred                    1490 non-null   int64  \n",
      " 12  DateOccurred                    1490 non-null   int64  \n",
      " 13  TimeOccurred                    1490 non-null   float64\n",
      " 14  DateTimeOccured                 1490 non-null   object \n",
      " 15  COMMUNITY_COUNCIL_NEIGHBORHOOD  1474 non-null   object \n",
      "dtypes: float64(3), int64(4), object(9)\n",
      "memory usage: 186.4+ KB\n",
      "None\n",
      "\n",
      "\n",
      "Statistics for Shootings Data:\n",
      "        LATITUDE_X  LONGITUDE_X      ShootID          Age  YearOccurred  \\\n",
      "count  1484.000000  1484.000000  1490.000000  1490.000000   1490.000000   \n",
      "mean     39.141561   -84.519514  6127.191275    29.586577   2022.391946   \n",
      "std       0.031436     0.042466   447.755104    11.743833      1.091854   \n",
      "min      39.084300   -84.702200  5359.000000     0.000000   2021.000000   \n",
      "25%      39.114500   -84.551100  5739.250000    20.000000   2021.000000   \n",
      "50%      39.136900   -84.516000  6122.500000    28.000000   2022.000000   \n",
      "75%      39.160125   -84.492025  6514.750000    36.000000   2023.000000   \n",
      "max      39.219600   -84.381800  6905.000000    82.000000   2024.000000   \n",
      "\n",
      "       DateOccurred   TimeOccurred  \n",
      "count  1.490000e+03    1490.000000  \n",
      "mean   2.022459e+07  132354.026846  \n",
      "std    1.089938e+04   81482.852052  \n",
      "min    2.021010e+07       0.000000  \n",
      "25%    2.021113e+07   41000.000000  \n",
      "50%    2.022102e+07  161700.000000  \n",
      "75%    2.023102e+07  204500.000000  \n",
      "max    2.024102e+07  235900.000000  \n",
      "\n",
      "\n",
      "Number of duplicate records in Shootings Data: 0\n",
      "Duplicate records dropped from Shootings Data.\n",
      "\n",
      "\n",
      "Missing values in Shootings Data:\n",
      "District                           1\n",
      "StreetBlock                        1\n",
      "LATITUDE_X                         6\n",
      "LONGITUDE_X                        6\n",
      "SNA_NEIGHBORHOOD                  10\n",
      "ShootID                            0\n",
      "RMS_No                             0\n",
      "Race                               0\n",
      "Sex                                0\n",
      "Age                                0\n",
      "Type                               0\n",
      "YearOccurred                       0\n",
      "DateOccurred                       0\n",
      "TimeOccurred                       0\n",
      "DateTimeOccured                    0\n",
      "COMMUNITY_COUNCIL_NEIGHBORHOOD    16\n",
      "dtype: int64\n",
      "\n",
      "\n",
      "Summary of Use of Force Data:\n",
      "<class 'pandas.core.frame.DataFrame'>\n",
      "Index: 21818 entries, 0 to 23338\n",
      "Data columns (total 18 columns):\n",
      " #   Column                          Non-Null Count  Dtype  \n",
      "---  ------                          --------------  -----  \n",
      " 0   INCIDENT_NO                     21818 non-null  int64  \n",
      " 1   INCIDENT_DATE                   21818 non-null  object \n",
      " 2   CASE_NO                         21818 non-null  object \n",
      " 3   CFS_NO                          21497 non-null  object \n",
      " 4   DISTRICT                        21789 non-null  object \n",
      " 5   INCIDENT_TYPE                   21817 non-null  float64\n",
      " 6   INCIDENT_DESCRIPTION            21817 non-null  object \n",
      " 7   INCIDENT_LOCATION_X             21799 non-null  object \n",
      " 8   LATITUDE_X                      12422 non-null  float64\n",
      " 9   LONGITUDE_X                     12422 non-null  float64\n",
      " 10  SUBJECT_GENDER                  21800 non-null  object \n",
      " 11  SUBJECT_RACE                    21800 non-null  object \n",
      " 12  SUSPECT_AGE                     21818 non-null  object \n",
      " 13  OFFICER_GENDER                  21744 non-null  object \n",
      " 14  OFFICER_RACE                    21744 non-null  object \n",
      " 15  SNA_NEIGHBORHOOD                12399 non-null  object \n",
      " 16  CPD_NEIGHBORHOOD                12422 non-null  object \n",
      " 17  COMMUNITY_COUNCIL_NEIGHBORHOOD  12379 non-null  object \n",
      "dtypes: float64(3), int64(1), object(14)\n",
      "memory usage: 3.2+ MB\n",
      "None\n",
      "\n",
      "\n",
      "Statistics for Use of Force Data:\n",
      "         INCIDENT_NO  INCIDENT_TYPE    LATITUDE_X   LONGITUDE_X\n",
      "count   21818.000000   21817.000000  12422.000000  12422.000000\n",
      "mean     3876.846228    9214.597332     39.133961    -84.518589\n",
      "std     16101.931683    2016.967615      0.027583      0.045094\n",
      "min     -8262.000000    2382.000000     39.060701    -84.707761\n",
      "25%     -3665.750000    9824.000000     39.111558    -84.549987\n",
      "50%      1484.500000    9824.000000     39.127542    -84.515689\n",
      "75%      6262.750000    9826.000000     39.147844    -84.497359\n",
      "max    140882.000000    9826.000000     39.219028    -84.372080\n",
      "\n",
      "\n",
      "Number of duplicate records in Use of Force Data: 0\n",
      "Duplicate records dropped from Use of Force Data.\n",
      "\n",
      "\n",
      "Missing values in Use of Force Data:\n",
      "INCIDENT_NO                          0\n",
      "INCIDENT_DATE                        0\n",
      "CASE_NO                              0\n",
      "CFS_NO                             321\n",
      "DISTRICT                            29\n",
      "INCIDENT_TYPE                        1\n",
      "INCIDENT_DESCRIPTION                 1\n",
      "INCIDENT_LOCATION_X                 19\n",
      "LATITUDE_X                        9396\n",
      "LONGITUDE_X                       9396\n",
      "SUBJECT_GENDER                      18\n",
      "SUBJECT_RACE                        18\n",
      "SUSPECT_AGE                          0\n",
      "OFFICER_GENDER                      74\n",
      "OFFICER_RACE                        74\n",
      "SNA_NEIGHBORHOOD                  9419\n",
      "CPD_NEIGHBORHOOD                  9396\n",
      "COMMUNITY_COUNCIL_NEIGHBORHOOD    9439\n",
      "dtype: int64\n",
      "\n",
      "\n",
      "Summary of Calls Data:\n",
      "<class 'pandas.core.frame.DataFrame'>\n",
      "RangeIndex: 5626155 entries, 0 to 5626154\n",
      "Data columns (total 20 columns):\n",
      " #   Column                          Dtype         \n",
      "---  ------                          -----         \n",
      " 0   ADDRESS_X                       object        \n",
      " 1   AGENCY                          object        \n",
      " 2   CREATE_TIME_INCIDENT            datetime64[ns]\n",
      " 3   DISPOSITION_TEXT                object        \n",
      " 4   EVENT_NUMBER                    object        \n",
      " 5   INCIDENT_TYPE_ID                object        \n",
      " 6   INCIDENT_TYPE_DESC              object        \n",
      " 7   PRIORITY                        float64       \n",
      " 8   PRIORITY_COLOR                  object        \n",
      " 9   ARRIVAL_TIME_PRIMARY_UNIT       object        \n",
      " 10  CLOSED_TIME_INCIDENT            object        \n",
      " 11  DISPATCH_TIME_PRIMARY_UNIT      object        \n",
      " 12  BEAT                            object        \n",
      " 13  DISTRICT                        float64       \n",
      " 14  SNA_NEIGHBORHOOD                object        \n",
      " 15  CPD_NEIGHBORHOOD                object        \n",
      " 16  COMMUNITY_COUNCIL_NEIGHBORHOOD  object        \n",
      " 17  LATITUDE_X                      float64       \n",
      " 18  LONGITUDE_X                     float64       \n",
      " 19  DAY_OF_WEEK                     object        \n",
      "dtypes: datetime64[ns](1), float64(4), object(15)\n",
      "memory usage: 858.5+ MB\n",
      "None\n",
      "\n",
      "\n",
      "Statistics for Calls Data:\n",
      "                CREATE_TIME_INCIDENT      PRIORITY      DISTRICT  \\\n",
      "count                        5625559  4.566277e+06  5.060134e+06   \n",
      "mean   2019-10-06 11:58:10.234705920  1.742485e+01  3.015856e+00   \n",
      "min              2014-09-30 23:52:08  0.000000e+00  1.000000e+00   \n",
      "25%              2017-01-13 09:59:34  8.000000e+00  2.000000e+00   \n",
      "50%              2019-09-26 16:02:37  1.200000e+01  3.000000e+00   \n",
      "75%              2022-06-22 08:01:01  2.900000e+01  4.000000e+00   \n",
      "max              2024-10-24 23:58:14  3.500000e+01  5.000000e+00   \n",
      "std                              NaN  1.105157e+01  1.348174e+00   \n",
      "\n",
      "         LATITUDE_X   LONGITUDE_X  \n",
      "count  5.179684e+06  5.179684e+06  \n",
      "mean   3.913612e+01 -8.451921e+01  \n",
      "min   -4.400000e-04 -8.546785e+01  \n",
      "25%    3.911369e+01 -8.454934e+01  \n",
      "50%    3.912908e+01 -8.451783e+01  \n",
      "75%    3.915212e+01 -8.449305e+01  \n",
      "max    4.179993e+01  8.400000e-04  \n",
      "std    3.909338e-02  8.382533e-02  \n",
      "\n",
      "\n",
      "Number of duplicate records in Calls Data: 0\n",
      "Duplicate records dropped from Calls Data.\n",
      "\n",
      "\n",
      "Missing values in Calls Data:\n",
      "ADDRESS_X                            2011\n",
      "AGENCY                                  0\n",
      "CREATE_TIME_INCIDENT                  596\n",
      "DISPOSITION_TEXT                    98205\n",
      "EVENT_NUMBER                            0\n",
      "INCIDENT_TYPE_ID                   265556\n",
      "INCIDENT_TYPE_DESC                2308673\n",
      "PRIORITY                          1059878\n",
      "PRIORITY_COLOR                    2938529\n",
      "ARRIVAL_TIME_PRIMARY_UNIT         2348117\n",
      "CLOSED_TIME_INCIDENT               120415\n",
      "DISPATCH_TIME_PRIMARY_UNIT        1986531\n",
      "BEAT                               158325\n",
      "DISTRICT                           566021\n",
      "SNA_NEIGHBORHOOD                  2255399\n",
      "CPD_NEIGHBORHOOD                   615108\n",
      "COMMUNITY_COUNCIL_NEIGHBORHOOD     558302\n",
      "LATITUDE_X                         446471\n",
      "LONGITUDE_X                        446471\n",
      "DAY_OF_WEEK                           596\n",
      "dtype: int64\n",
      "\n",
      "\n"
     ]
    }
   ],
   "source": [
    "def analyze_dataframe(df, name):\n",
    "    #summary of the dataframe\n",
    "    print(f\"Summary of {name}:\")\n",
    "    print(df.info())\n",
    "    print(\"\\n\")\n",
    "\n",
    "    #statistics for the dataframe\n",
    "    print(f\"Statistics for {name}:\")\n",
    "    print(df.describe())\n",
    "    print(\"\\n\")\n",
    "\n",
    "    #number of duplicate records\n",
    "    duplicate_count = df.duplicated().sum()\n",
    "    print(f\"Number of duplicate records in {name}: {duplicate_count}\")\n",
    "    \n",
    "    #drop the duplicate records\n",
    "    df.drop_duplicates(inplace=True)\n",
    "    print(f\"Duplicate records dropped from {name}.\")\n",
    "    print(\"\\n\")\n",
    "\n",
    "    #check for missing values\n",
    "    missing_values_count = df.isna().sum()\n",
    "    print(f\"Missing values in {name}:\\n{missing_values_count}\")\n",
    "    print(\"\\n\")\n",
    "\n",
    "#list of datasets\n",
    "datasets = [data, shootings_data, use_of_force_data, calls_data]\n",
    "dataset_names = ['API Data', 'Shootings Data', 'Use of Force Data', 'Calls Data']\n",
    "\n",
    "#analyze each dataset\n",
    "for i in range(len(datasets)):\n",
    "    analyze_dataframe(datasets[i], dataset_names[i])\n"
   ]
  },
  {
   "cell_type": "markdown",
   "metadata": {},
   "source": [
    "The police incidents dataset gives us many summaries, espeically the hour_from column because it has a mean of 741 and shows significant variability meaning there is a wide range of incident times. As for the correlation analysis it is limited since there is only one numeric feature, but we can use teh categorical relationships like \"offense\" against hour_from to get some trends too. There is a high percentage of missing values that I want to point out; for example: victim_ethnicity and totalnumbervictims which does affect the overall analysis. Additionally there are many data types that require conversion. Some columns like longitude_x and latitude_x should be numeric but they are not, and the dates for \"date_reported\" should be in datetime format to be easier to work with. \n",
    "\n",
    "The shootings dataset has 1,490 entries, and it provides important summaries for columns like LATITUDE_X, LONGITUDE_X, and Age, with the averages for each roughly being 39.14 (lat), -84.52 (long), and 29.59 (age). When I look at the data distributions, it seems that age has a normal distribution but lattitude and longitude have some outliers. This leads me to think it would be interesting to analyze how age relates to other demographic factors like race and this data set. But this might be difficult to do since they are categorical variables. To note a few data issues, there are some missing values in columns like lattitude and sna neighborhood, but I did not find any duplicates which is good for keeping the data clean. Then for data types, I believe that the DateTimeOccurred column should be converted to a datetime format to make it easier to analyze dates and times.\n",
    "\n",
    "The Use of Force dataset contains 21,818 entries and like the rest also posesseses various columns, including \"INCIDENT_NO\" and \"INCIDENT_DATE.\" The stats show a mean latitude of about 39.13 and a mean longitude of approximately -84.52 so this give us the exact points and location context of the incidents we work with in the data set. A downside I saw right away were that there are a lot of missing values, especially in lattitude and longitude.There is over 9000 entries missing for thos two columns and this could definitely affect spatial analysis. Other missing values in the categorical columns are for instance SUBJECT_GENDER and OFFICER_GENDER. But the good thing is there are no duplicate records. I noted that for data types I had to change, the INCIDENT_DATE column needs to be converted from object to datetime for better analysis.\n",
    "\n",
    "The Calls dataset has the most data records is what I noticed, specifically with a massive 5,626,155 entries. Some key columns being CREATE_TIME_INCIDENT and DISPOSITION_TEXT. The data has a variety of types like datetime for incident creation time and float for priority levels which I thought was unique from the others greatly. Though, the missing values in this set are significant since it is so big, like in columns PRIORITY_COLOR and SNA_NEIGHBORHOOD, where over 2 million entries are missing. This could affect my analysis related to response times and neighborhood impacts if I choose to stick with that still. The bright side is that there are no duplicate records to worry about in addition. The latitude and longitude columns show valid float values but there are still a lot of missing data points in these coordinates. To improve the dataset's accuracy, I will strongly consider filling in missing values where possible and making sure all datetime columns are correctly formatted."
   ]
  },
  {
   "cell_type": "markdown",
   "metadata": {},
   "source": [
    "## Data Visualizations"
   ]
  },
  {
   "cell_type": "code",
   "execution_count": 38,
   "metadata": {},
   "outputs": [
    {
     "name": "stdout",
     "output_type": "stream",
     "text": [
      "loaded 1000 records from api\n"
     ]
    },
    {
     "data": {
      "image/png": "[encoded data removed]",
      "text/plain": [
       "<Figure size 1000x600 with 1 Axes>"
      ]
     },
     "metadata": {},
     "output_type": "display_data"
    }
   ],
   "source": [
    "import pandas as pd\n",
    "import requests\n",
    "import matplotlib.pyplot as plt\n",
    "\n",
    "#api url for crime incidents data\n",
    "api_url = 'https://data.cincinnati-oh.gov/resource/k59e-2pvf.json'\n",
    "\n",
    "#make api request\n",
    "response = requests.get(api_url)\n",
    "\n",
    "#check if request worked\n",
    "if response.status_code == 200:\n",
    "    #load data into dataframe\n",
    "    data = pd.DataFrame(response.json())\n",
    "    print(f\"loaded {len(data)} records from api\")\n",
    "\n",
    "    #check if date_reported column is there and convert to datetime\n",
    "    if 'date_reported' in data.columns:\n",
    "        data['date_reported'] = pd.to_datetime(data['date_reported'], errors='coerce')\n",
    "        data['incident_hour'] = data['date_reported'].dt.hour\n",
    "\n",
    "        #get top 3 neighborhoods by incidents\n",
    "        top_neigh = data['cpd_neighborhood'].value_counts().head(3).index\n",
    "        filtered_data = data[data['cpd_neighborhood'].isin(top_neigh)]\n",
    "\n",
    "        #count incidents by hour and neighborhood\n",
    "        hourly_incidents = filtered_data.groupby(['incident_hour', 'cpd_neighborhood']).size().unstack(fill_value=0)\n",
    "\n",
    "        #plot line chart\n",
    "        plt.figure(figsize=(10, 6))  # set figure size\n",
    "        for neigh in hourly_incidents.columns:  # plot each neighborhood\n",
    "            plt.plot(hourly_incidents.index, hourly_incidents[neigh], marker='o', label=neigh)\n",
    "\n",
    "        plt.title('Incidents by Hour for Top 3 Neighborhoods')  # title of the graph\n",
    "        plt.xlabel('Hour of the Day')  # x-axis label\n",
    "        plt.ylabel('Incident Count')  # y-axis label\n",
    "\n",
    "        #change x-ticks for am and pm for better time reading\n",
    "        plt.xticks(range(24), [f\"{(i % 12) + 1} {'am' if i < 12 else 'pm'}\" for i in range(24)], rotation=45)\n",
    "\n",
    "        plt.legend(title='Neighborhood', bbox_to_anchor=(1.05, 1))\n",
    "        plt.tight_layout()\n",
    "        plt.show()\n",
    "    else:\n",
    "        print(\"'date_reported' column missing\")\n",
    "else:\n",
    "    print(f\"api request failed with status: {response.status_code}\")"
   ]
  },
  {
   "cell_type": "markdown",
   "metadata": {},
   "source": [
    "The graph above illustrates the relationship between incident counts and the time of day. I chose to use a line chart for this data because it effectively displays numerous points across each hour to me, allowing the highest counts of incidents to stand out clearly. The graph indicates that different neighborhoods experience their peak incident times at various hours. For instance, Mount Airy shows higher incident counts at night, particularly at 1 AM and 6 AM, while Westwood has more incidents in the afternoon, peaking around 3 PM. The neighborhoods with the highest counts are Mount Airy, Westwood, and West Price Hill with each displaying patterns in their incident occurrences throughout the day that are also valuable to look into."
   ]
  },
  {
   "cell_type": "code",
   "execution_count": 49,
   "metadata": {},
   "outputs": [
    {
     "name": "stderr",
     "output_type": "stream",
     "text": [
      "C:\\Users\\chari\\AppData\\Local\\Temp\\ipykernel_22000\\4151311028.py:12: SettingWithCopyWarning:\n",
      "\n",
      "\n",
      "A value is trying to be set on a copy of a slice from a DataFrame.\n",
      "Try using .loc[row_indexer,col_indexer] = value instead\n",
      "\n",
      "See the caveats in the documentation: https://pandas.pydata.org/pandas-docs/stable/user_guide/indexing.html#returning-a-view-versus-a-copy\n",
      "\n",
      "C:\\Users\\chari\\AppData\\Local\\Temp\\ipykernel_22000\\4151311028.py:15: SettingWithCopyWarning:\n",
      "\n",
      "\n",
      "A value is trying to be set on a copy of a slice from a DataFrame.\n",
      "Try using .loc[row_indexer,col_indexer] = value instead\n",
      "\n",
      "See the caveats in the documentation: https://pandas.pydata.org/pandas-docs/stable/user_guide/indexing.html#returning-a-view-versus-a-copy\n",
      "\n"
     ]
    },
    {
     "data": {
      "image/png": "[encoded data removed]",
      "text/plain": [
       "<Figure size 1200x600 with 1 Axes>"
      ]
     },
     "metadata": {},
     "output_type": "display_data"
    }
   ],
   "source": [
    "import pandas as pd\n",
    "import matplotlib.pyplot as plt\n",
    "\n",
    "#load the excel file\n",
    "file_path = r'C:\\Users\\chari\\Documents\\Data Tech Analytics\\CPD_Reported_Shootings_20241026.csv'  \n",
    "shootings_data = pd.read_csv(file_path)\n",
    "\n",
    "#filter for just the year 2024\n",
    "shootings_2024 = shootings_data[shootings_data['YearOccurred'] == 2024]\n",
    "\n",
    "#convert the date column to datetime\n",
    "shootings_2024['DateOccurred'] = pd.to_datetime(shootings_2024['DateOccurred'], format='%Y%m%d')\n",
    "\n",
    "#add a column for month names\n",
    "shootings_2024['Month'] = shootings_2024['DateOccurred'].dt.month_name()\n",
    "\n",
    "#count shootings per month\n",
    "monthly_counts_2024 = shootings_2024['Month'].value_counts().reindex([\n",
    "    'January', 'February', 'March', 'April', 'May', 'June', \n",
    "    'July', 'August', 'September', 'October', 'November', 'December'\n",
    "])\n",
    "\n",
    "#set up data for scatter plot\n",
    "months = monthly_counts_2024.index\n",
    "counts = monthly_counts_2024.values\n",
    "\n",
    "#scatter plot\n",
    "plt.figure(figsize=(12, 6))\n",
    "plt.scatter(months, counts, color='blue', alpha=0.7, s=100)  # s is point size\n",
    "plt.title('Monthly Shootings Count in 2024')\n",
    "plt.xlabel('Month')\n",
    "plt.ylabel('Number of Shootings')\n",
    "plt.xticks(rotation=45)\n",
    "plt.grid(axis='y')\n",
    "\n",
    "plt.show()"
   ]
  },
  {
   "cell_type": "markdown",
   "metadata": {},
   "source": [
    "The graph shows the number of shootings across each month of the year. I chose a scatter plot for this data because it allows us to easily spot the months with the highest shooting counts and keeping it seperate from each months. The data suggests that shootings peak in the middle of the year, with June and July showing over 40 incidents. I feel this might be due to warmer weather, as more people are outside and interacting with each other. But in contrast, the earlier and colder months like February and March have the fewest shootings likely because people spend less time outside and inside more isolated etc."
   ]
  },
  {
   "cell_type": "code",
   "execution_count": 14,
   "metadata": {},
   "outputs": [
    {
     "data": {
      "image/png": "[encoded data removed]",
      "text/plain": [
       "<Figure size 1600x1000 with 1 Axes>"
      ]
     },
     "metadata": {},
     "output_type": "display_data"
    }
   ],
   "source": [
    "import pandas as pd\n",
    "import matplotlib.pyplot as plt\n",
    "\n",
    "#load the police use of force excel\n",
    "use_of_force_path = r'C:\\Users\\chari\\Documents\\Data Tech Analytics\\PDI__Police_Data_Initiative__Use_of_Force_20241026.csv'\n",
    "\n",
    "#read the dataset\n",
    "use_of_force_data = pd.read_csv(use_of_force_path)\n",
    "\n",
    "#filter for the top 5 neighborhoods with the most incidents\n",
    "top_5_neighborhoods = use_of_force_data['SNA_NEIGHBORHOOD'].value_counts().nlargest(5).index\n",
    "top_incidents = use_of_force_data[use_of_force_data['SNA_NEIGHBORHOOD'].isin(top_5_neighborhoods)]\n",
    "\n",
    "#count # of use of force incidents by incident type and neighborhood\n",
    "incident_counts = top_incidents.groupby(['INCIDENT_DESCRIPTION', 'SNA_NEIGHBORHOOD']).size().unstack(fill_value=0)\n",
    "\n",
    "#clustered bar chart\n",
    "fig, ax = plt.subplots(figsize=(16, 10))\n",
    "incident_counts.plot(kind='bar', width=0.8, ax=ax)\n",
    "\n",
    "#padding needed to add for better look \n",
    "plt.suptitle('Use of Force Incidents by Incident Type in Top 5 Neighborhoods', y=1.02, fontsize=16)  #main title with padding\n",
    "ax.set_xlabel('Incident Type', labelpad=15)  #add padding to x-axis label\n",
    "ax.set_ylabel('Number of Use of Force Incidents', labelpad=20)  #add padding to y-axis label\n",
    "plt.xticks(rotation=45, ha='right')\n",
    "\n",
    "#put legend outside\n",
    "plt.legend(title='Neighborhood', bbox_to_anchor=(1.05, 1), loc='upper left')\n",
    "\n",
    "#add extra padding around plot\n",
    "plt.subplots_adjust(top=0.85, right=0.85, left=0.1, bottom=0.15)\n",
    "plt.grid(axis='y', linestyle='--', alpha=0.7)\n",
    "\n",
    "plt.tight_layout()\n",
    "plt.show()\n"
   ]
  },
  {
   "cell_type": "markdown",
   "metadata": {},
   "source": [
    "This graph shows the types of use of force incidents in the top five neighborhoods, highlighting how often each type occurs within these areas in Cincinnati. The most common incidents appear to be \"injury to prisoner\" and the use of force methods like tasers or beanbags (not sure what that even means honestly), especially in the neighborhoods of Over-the-Rhine (OTR) and Avondale. While I don't have a clear reason for Avondale's rates, I do know very well that OTR has many bars, so that makes sense for alcohol-related incidents to contribute to higher use of force. I chose a clustered bar chart to clearly represent the frequency of these incidents across neighborhoods, making it easy to compare multiple incident types without losing context on neighborhood-specific differences."
   ]
  },
  {
   "cell_type": "code",
   "execution_count": 24,
   "metadata": {},
   "outputs": [
    {
     "name": "stderr",
     "output_type": "stream",
     "text": [
      "C:\\Users\\chari\\AppData\\Local\\Temp\\ipykernel_22000\\2253382140.py:11: UserWarning:\n",
      "\n",
      "Could not infer format, so each element will be parsed individually, falling back to `dateutil`. To ensure parsing is consistent and as-expected, please specify a format.\n",
      "\n",
      "C:\\Users\\chari\\AppData\\Local\\Temp\\ipykernel_22000\\2253382140.py:23: SettingWithCopyWarning:\n",
      "\n",
      "\n",
      "A value is trying to be set on a copy of a slice from a DataFrame.\n",
      "Try using .loc[row_indexer,col_indexer] = value instead\n",
      "\n",
      "See the caveats in the documentation: https://pandas.pydata.org/pandas-docs/stable/user_guide/indexing.html#returning-a-view-versus-a-copy\n",
      "\n"
     ]
    },
    {
     "data": {
      "application/vnd.plotly.v1+json": {
       "config": {
        "plotlyServerURL": "https://plot.ly"
       },
       "data": [
        {
         "alignmentgroup": "True",
         "hovertemplate": "INCIDENT_TYPE_ID=WAR<br>DAY_OF_WEEK=%{x}<br>counts=%{text}<extra></extra>",
         "legendgroup": "WAR",
         "marker": {
          "color": "#636efa",
          "pattern": {
           "shape": ""
          }
         },
         "name": "WAR",
         "offsetgroup": "WAR",
         "orientation": "v",
         "showlegend": true,
         "text": [
          4121,
          3678,
          2150,
          1612,
          4826,
          4818,
          4937
         ],
         "textposition": "auto",
         "type": "bar",
         "x": [
          "Friday",
          "Monday",
          "Saturday",
          "Sunday",
          "Thursday",
          "Tuesday",
          "Wednesday"
         ],
         "xaxis": "x",
         "y": [
          4121,
          3678,
          2150,
          1612,
          4826,
          4818,
          4937
         ],
         "yaxis": "y"
        },
        {
         "alignmentgroup": "True",
         "hovertemplate": "INCIDENT_TYPE_ID=WEAPON INCIDENT (S)<br>DAY_OF_WEEK=%{x}<br>counts=%{text}<extra></extra>",
         "legendgroup": "WEAPON INCIDENT (S)",
         "marker": {
          "color": "#EF553B",
          "pattern": {
           "shape": ""
          }
         },
         "name": "WEAPON INCIDENT (S)",
         "offsetgroup": "WEAPON INCIDENT (S)",
         "orientation": "v",
         "showlegend": true,
         "text": [
          8,
          11,
          6,
          7,
          6,
          6,
          8
         ],
         "textposition": "auto",
         "type": "bar",
         "x": [
          "Friday",
          "Monday",
          "Saturday",
          "Sunday",
          "Thursday",
          "Tuesday",
          "Wednesday"
         ],
         "xaxis": "x",
         "y": [
          8,
          11,
          6,
          7,
          6,
          6,
          8
         ],
         "yaxis": "y"
        },
        {
         "alignmentgroup": "True",
         "hovertemplate": "INCIDENT_TYPE_ID=WELFARE CHECK - NON-URGENT<br>DAY_OF_WEEK=%{x}<br>counts=%{text}<extra></extra>",
         "legendgroup": "WELFARE CHECK - NON-URGENT",
         "marker": {
          "color": "#00cc96",
          "pattern": {
           "shape": ""
          }
         },
         "name": "WELFARE CHECK - NON-URGENT",
         "offsetgroup": "WELFARE CHECK - NON-URGENT",
         "orientation": "v",
         "showlegend": true,
         "text": [
          720,
          802,
          646,
          624,
          788,
          750,
          785
         ],
         "textposition": "auto",
         "type": "bar",
         "x": [
          "Friday",
          "Monday",
          "Saturday",
          "Sunday",
          "Thursday",
          "Tuesday",
          "Wednesday"
         ],
         "xaxis": "x",
         "y": [
          720,
          802,
          646,
          624,
          788,
          750,
          785
         ],
         "yaxis": "y"
        },
        {
         "alignmentgroup": "True",
         "hovertemplate": "INCIDENT_TYPE_ID=WELFARE CHECK - URGENT<br>DAY_OF_WEEK=%{x}<br>counts=%{text}<extra></extra>",
         "legendgroup": "WELFARE CHECK - URGENT",
         "marker": {
          "color": "#ab63fa",
          "pattern": {
           "shape": ""
          }
         },
         "name": "WELFARE CHECK - URGENT",
         "offsetgroup": "WELFARE CHECK - URGENT",
         "orientation": "v",
         "showlegend": true,
         "text": [
          151,
          171,
          146,
          161,
          161,
          157,
          168
         ],
         "textposition": "auto",
         "type": "bar",
         "x": [
          "Friday",
          "Monday",
          "Saturday",
          "Sunday",
          "Thursday",
          "Tuesday",
          "Wednesday"
         ],
         "xaxis": "x",
         "y": [
          151,
          171,
          146,
          161,
          161,
          157,
          168
         ],
         "yaxis": "y"
        },
        {
         "alignmentgroup": "True",
         "hovertemplate": "INCIDENT_TYPE_ID=WRECKER REQUEST<br>DAY_OF_WEEK=%{x}<br>counts=%{text}<extra></extra>",
         "legendgroup": "WRECKER REQUEST",
         "marker": {
          "color": "#FFA15A",
          "pattern": {
           "shape": ""
          }
         },
         "name": "WRECKER REQUEST",
         "offsetgroup": "WRECKER REQUEST",
         "orientation": "v",
         "showlegend": true,
         "text": [
          67,
          40,
          23,
          16,
          64,
          62,
          66
         ],
         "textposition": "auto",
         "type": "bar",
         "x": [
          "Friday",
          "Monday",
          "Saturday",
          "Sunday",
          "Thursday",
          "Tuesday",
          "Wednesday"
         ],
         "xaxis": "x",
         "y": [
          67,
          40,
          23,
          16,
          64,
          62,
          66
         ],
         "yaxis": "y"
        }
       ],
       "layout": {
        "barmode": "stack",
        "legend": {
         "title": {
          "text": "Incident Type"
         },
         "tracegroupgap": 0
        },
        "margin": {
         "b": 40,
         "l": 40,
         "r": 40,
         "t": 40
        },
        "template": {
         "data": {
          "bar": [
           {
            "error_x": {
             "color": "#2a3f5f"
            },
            "error_y": {
             "color": "#2a3f5f"
            },
            "marker": {
             "line": {
              "color": "#E5ECF6",
              "width": 0.5
             },
             "pattern": {
              "fillmode": "overlay",
              "size": 10,
              "solidity": 0.2
             }
            },
            "type": "bar"
           }
          ],
          "barpolar": [
           {
            "marker": {
             "line": {
              "color": "#E5ECF6",
              "width": 0.5
             },
             "pattern": {
              "fillmode": "overlay",
              "size": 10,
              "solidity": 0.2
             }
            },
            "type": "barpolar"
           }
          ],
          "carpet": [
           {
            "aaxis": {
             "endlinecolor": "#2a3f5f",
             "gridcolor": "white",
             "linecolor": "white",
             "minorgridcolor": "white",
             "startlinecolor": "#2a3f5f"
            },
            "baxis": {
             "endlinecolor": "#2a3f5f",
             "gridcolor": "white",
             "linecolor": "white",
             "minorgridcolor": "white",
             "startlinecolor": "#2a3f5f"
            },
            "type": "carpet"
           }
          ],
          "choropleth": [
           {
            "colorbar": {
             "outlinewidth": 0,
             "ticks": ""
            },
            "type": "choropleth"
           }
          ],
          "contour": [
           {
            "colorbar": {
             "outlinewidth": 0,
             "ticks": ""
            },
            "colorscale": [
             [
              0,
              "#0d0887"
             ],
             [
              0.1111111111111111,
              "#46039f"
             ],
             [
              0.2222222222222222,
              "#7201a8"
             ],
             [
              0.3333333333333333,
              "#9c179e"
             ],
             [
              0.4444444444444444,
              "#bd3786"
             ],
             [
              0.5555555555555556,
              "#d8576b"
             ],
             [
              0.6666666666666666,
              "#ed7953"
             ],
             [
              0.7777777777777778,
              "#fb9f3a"
             ],
             [
              0.8888888888888888,
              "#fdca26"
             ],
             [
              1,
              "#f0f921"
             ]
            ],
            "type": "contour"
           }
          ],
          "contourcarpet": [
           {
            "colorbar": {
             "outlinewidth": 0,
             "ticks": ""
            },
            "type": "contourcarpet"
           }
          ],
          "heatmap": [
           {
            "colorbar": {
             "outlinewidth": 0,
             "ticks": ""
            },
            "colorscale": [
             [
              0,
              "#0d0887"
             ],
             [
              0.1111111111111111,
              "#46039f"
             ],
             [
              0.2222222222222222,
              "#7201a8"
             ],
             [
              0.3333333333333333,
              "#9c179e"
             ],
             [
              0.4444444444444444,
              "#bd3786"
             ],
             [
              0.5555555555555556,
              "#d8576b"
             ],
             [
              0.6666666666666666,
              "#ed7953"
             ],
             [
              0.7777777777777778,
              "#fb9f3a"
             ],
             [
              0.8888888888888888,
              "#fdca26"
             ],
             [
              1,
              "#f0f921"
             ]
            ],
            "type": "heatmap"
           }
          ],
          "heatmapgl": [
           {
            "colorbar": {
             "outlinewidth": 0,
             "ticks": ""
            },
            "colorscale": [
             [
              0,
              "#0d0887"
             ],
             [
              0.1111111111111111,
              "#46039f"
             ],
             [
              0.2222222222222222,
              "#7201a8"
             ],
             [
              0.3333333333333333,
              "#9c179e"
             ],
             [
              0.4444444444444444,
              "#bd3786"
             ],
             [
              0.5555555555555556,
              "#d8576b"
             ],
             [
              0.6666666666666666,
              "#ed7953"
             ],
             [
              0.7777777777777778,
              "#fb9f3a"
             ],
             [
              0.8888888888888888,
              "#fdca26"
             ],
             [
              1,
              "#f0f921"
             ]
            ],
            "type": "heatmapgl"
           }
          ],
          "histogram": [
           {
            "marker": {
             "pattern": {
              "fillmode": "overlay",
              "size": 10,
              "solidity": 0.2
             }
            },
            "type": "histogram"
           }
          ],
          "histogram2d": [
           {
            "colorbar": {
             "outlinewidth": 0,
             "ticks": ""
            },
            "colorscale": [
             [
              0,
              "#0d0887"
             ],
             [
              0.1111111111111111,
              "#46039f"
             ],
             [
              0.2222222222222222,
              "#7201a8"
             ],
             [
              0.3333333333333333,
              "#9c179e"
             ],
             [
              0.4444444444444444,
              "#bd3786"
             ],
             [
              0.5555555555555556,
              "#d8576b"
             ],
             [
              0.6666666666666666,
              "#ed7953"
             ],
             [
              0.7777777777777778,
              "#fb9f3a"
             ],
             [
              0.8888888888888888,
              "#fdca26"
             ],
             [
              1,
              "#f0f921"
             ]
            ],
            "type": "histogram2d"
           }
          ],
          "histogram2dcontour": [
           {
            "colorbar": {
             "outlinewidth": 0,
             "ticks": ""
            },
            "colorscale": [
             [
              0,
              "#0d0887"
             ],
             [
              0.1111111111111111,
              "#46039f"
             ],
             [
              0.2222222222222222,
              "#7201a8"
             ],
             [
              0.3333333333333333,
              "#9c179e"
             ],
             [
              0.4444444444444444,
              "#bd3786"
             ],
             [
              0.5555555555555556,
              "#d8576b"
             ],
             [
              0.6666666666666666,
              "#ed7953"
             ],
             [
              0.7777777777777778,
              "#fb9f3a"
             ],
             [
              0.8888888888888888,
              "#fdca26"
             ],
             [
              1,
              "#f0f921"
             ]
            ],
            "type": "histogram2dcontour"
           }
          ],
          "mesh3d": [
           {
            "colorbar": {
             "outlinewidth": 0,
             "ticks": ""
            },
            "type": "mesh3d"
           }
          ],
          "parcoords": [
           {
            "line": {
             "colorbar": {
              "outlinewidth": 0,
              "ticks": ""
             }
            },
            "type": "parcoords"
           }
          ],
          "pie": [
           {
            "automargin": true,
            "type": "pie"
           }
          ],
          "scatter": [
           {
            "fillpattern": {
             "fillmode": "overlay",
             "size": 10,
             "solidity": 0.2
            },
            "type": "scatter"
           }
          ],
          "scatter3d": [
           {
            "line": {
             "colorbar": {
              "outlinewidth": 0,
              "ticks": ""
             }
            },
            "marker": {
             "colorbar": {
              "outlinewidth": 0,
              "ticks": ""
             }
            },
            "type": "scatter3d"
           }
          ],
          "scattercarpet": [
           {
            "marker": {
             "colorbar": {
              "outlinewidth": 0,
              "ticks": ""
             }
            },
            "type": "scattercarpet"
           }
          ],
          "scattergeo": [
           {
            "marker": {
             "colorbar": {
              "outlinewidth": 0,
              "ticks": ""
             }
            },
            "type": "scattergeo"
           }
          ],
          "scattergl": [
           {
            "marker": {
             "colorbar": {
              "outlinewidth": 0,
              "ticks": ""
             }
            },
            "type": "scattergl"
           }
          ],
          "scattermapbox": [
           {
            "marker": {
             "colorbar": {
              "outlinewidth": 0,
              "ticks": ""
             }
            },
            "type": "scattermapbox"
           }
          ],
          "scatterpolar": [
           {
            "marker": {
             "colorbar": {
              "outlinewidth": 0,
              "ticks": ""
             }
            },
            "type": "scatterpolar"
           }
          ],
          "scatterpolargl": [
           {
            "marker": {
             "colorbar": {
              "outlinewidth": 0,
              "ticks": ""
             }
            },
            "type": "scatterpolargl"
           }
          ],
          "scatterternary": [
           {
            "marker": {
             "colorbar": {
              "outlinewidth": 0,
              "ticks": ""
             }
            },
            "type": "scatterternary"
           }
          ],
          "surface": [
           {
            "colorbar": {
             "outlinewidth": 0,
             "ticks": ""
            },
            "colorscale": [
             [
              0,
              "#0d0887"
             ],
             [
              0.1111111111111111,
              "#46039f"
             ],
             [
              0.2222222222222222,
              "#7201a8"
             ],
             [
              0.3333333333333333,
              "#9c179e"
             ],
             [
              0.4444444444444444,
              "#bd3786"
             ],
             [
              0.5555555555555556,
              "#d8576b"
             ],
             [
              0.6666666666666666,
              "#ed7953"
             ],
             [
              0.7777777777777778,
              "#fb9f3a"
             ],
             [
              0.8888888888888888,
              "#fdca26"
             ],
             [
              1,
              "#f0f921"
             ]
            ],
            "type": "surface"
           }
          ],
          "table": [
           {
            "cells": {
             "fill": {
              "color": "#EBF0F8"
             },
             "line": {
              "color": "white"
             }
            },
            "header": {
             "fill": {
              "color": "#C8D4E3"
             },
             "line": {
              "color": "white"
             }
            },
            "type": "table"
           }
          ]
         },
         "layout": {
          "annotationdefaults": {
           "arrowcolor": "#2a3f5f",
           "arrowhead": 0,
           "arrowwidth": 1
          },
          "autotypenumbers": "strict",
          "coloraxis": {
           "colorbar": {
            "outlinewidth": 0,
            "ticks": ""
           }
          },
          "colorscale": {
           "diverging": [
            [
             0,
             "#8e0152"
            ],
            [
             0.1,
             "#c51b7d"
            ],
            [
             0.2,
             "#de77ae"
            ],
            [
             0.3,
             "#f1b6da"
            ],
            [
             0.4,
             "#fde0ef"
            ],
            [
             0.5,
             "#f7f7f7"
            ],
            [
             0.6,
             "#e6f5d0"
            ],
            [
             0.7,
             "#b8e186"
            ],
            [
             0.8,
             "#7fbc41"
            ],
            [
             0.9,
             "#4d9221"
            ],
            [
             1,
             "#276419"
            ]
           ],
           "sequential": [
            [
             0,
             "#0d0887"
            ],
            [
             0.1111111111111111,
             "#46039f"
            ],
            [
             0.2222222222222222,
             "#7201a8"
            ],
            [
             0.3333333333333333,
             "#9c179e"
            ],
            [
             0.4444444444444444,
             "#bd3786"
            ],
            [
             0.5555555555555556,
             "#d8576b"
            ],
            [
             0.6666666666666666,
             "#ed7953"
            ],
            [
             0.7777777777777778,
             "#fb9f3a"
            ],
            [
             0.8888888888888888,
             "#fdca26"
            ],
            [
             1,
             "#f0f921"
            ]
           ],
           "sequentialminus": [
            [
             0,
             "#0d0887"
            ],
            [
             0.1111111111111111,
             "#46039f"
            ],
            [
             0.2222222222222222,
             "#7201a8"
            ],
            [
             0.3333333333333333,
             "#9c179e"
            ],
            [
             0.4444444444444444,
             "#bd3786"
            ],
            [
             0.5555555555555556,
             "#d8576b"
            ],
            [
             0.6666666666666666,
             "#ed7953"
            ],
            [
             0.7777777777777778,
             "#fb9f3a"
            ],
            [
             0.8888888888888888,
             "#fdca26"
            ],
            [
             1,
             "#f0f921"
            ]
           ]
          },
          "colorway": [
           "#636efa",
           "#EF553B",
           "#00cc96",
           "#ab63fa",
           "#FFA15A",
           "#19d3f3",
           "#FF6692",
           "#B6E880",
           "#FF97FF",
           "#FECB52"
          ],
          "font": {
           "color": "#2a3f5f"
          },
          "geo": {
           "bgcolor": "white",
           "lakecolor": "white",
           "landcolor": "#E5ECF6",
           "showlakes": true,
           "showland": true,
           "subunitcolor": "white"
          },
          "hoverlabel": {
           "align": "left"
          },
          "hovermode": "closest",
          "mapbox": {
           "style": "light"
          },
          "paper_bgcolor": "white",
          "plot_bgcolor": "#E5ECF6",
          "polar": {
           "angularaxis": {
            "gridcolor": "white",
            "linecolor": "white",
            "ticks": ""
           },
           "bgcolor": "#E5ECF6",
           "radialaxis": {
            "gridcolor": "white",
            "linecolor": "white",
            "ticks": ""
           }
          },
          "scene": {
           "xaxis": {
            "backgroundcolor": "#E5ECF6",
            "gridcolor": "white",
            "gridwidth": 2,
            "linecolor": "white",
            "showbackground": true,
            "ticks": "",
            "zerolinecolor": "white"
           },
           "yaxis": {
            "backgroundcolor": "#E5ECF6",
            "gridcolor": "white",
            "gridwidth": 2,
            "linecolor": "white",
            "showbackground": true,
            "ticks": "",
            "zerolinecolor": "white"
           },
           "zaxis": {
            "backgroundcolor": "#E5ECF6",
            "gridcolor": "white",
            "gridwidth": 2,
            "linecolor": "white",
            "showbackground": true,
            "ticks": "",
            "zerolinecolor": "white"
           }
          },
          "shapedefaults": {
           "line": {
            "color": "#2a3f5f"
           }
          },
          "ternary": {
           "aaxis": {
            "gridcolor": "white",
            "linecolor": "white",
            "ticks": ""
           },
           "baxis": {
            "gridcolor": "white",
            "linecolor": "white",
            "ticks": ""
           },
           "bgcolor": "#E5ECF6",
           "caxis": {
            "gridcolor": "white",
            "linecolor": "white",
            "ticks": ""
           }
          },
          "title": {
           "x": 0.05
          },
          "xaxis": {
           "automargin": true,
           "gridcolor": "white",
           "linecolor": "white",
           "ticks": "",
           "title": {
            "standoff": 15
           },
           "zerolinecolor": "white",
           "zerolinewidth": 2
          },
          "yaxis": {
           "automargin": true,
           "gridcolor": "white",
           "linecolor": "white",
           "ticks": "",
           "title": {
            "standoff": 15
           },
           "zerolinecolor": "white",
           "zerolinewidth": 2
          }
         }
        },
        "title": {
         "text": "Top Incident Types by Day of the Week"
        },
        "xaxis": {
         "anchor": "y",
         "domain": [
          0,
          1
         ],
         "title": {
          "text": "Day of the Week"
         }
        },
        "yaxis": {
         "anchor": "x",
         "domain": [
          0,
          1
         ],
         "title": {
          "text": "Number of Incidents"
         }
        }
       }
      }
     },
     "metadata": {},
     "output_type": "display_data"
    }
   ],
   "source": [
    "import pandas as pd\n",
    "import plotly.express as px\n",
    "\n",
    "#load excel file\n",
    "calls_file_path = r'C:\\Users\\chari\\Documents\\Data Tech Analytics\\PDI__Police_Data_Initiative__Police_Calls_for_Service.csv'\n",
    "\n",
    "#load data\n",
    "calls_data = pd.read_csv(calls_file_path, low_memory=False)\n",
    "\n",
    "#convert incident creation time to datetime and get day of the week\n",
    "calls_data['CREATE_TIME_INCIDENT'] = pd.to_datetime(calls_data['CREATE_TIME_INCIDENT'], errors='coerce')\n",
    "calls_data['DAY_OF_WEEK'] = calls_data['CREATE_TIME_INCIDENT'].dt.day_name()\n",
    "\n",
    "#group by day of the week and incident type to count #\n",
    "incident_counts = calls_data.groupby(['DAY_OF_WEEK', 'INCIDENT_TYPE_ID']).size().reset_index(name='counts')\n",
    "\n",
    "#filter for the top 5 incident types\n",
    "top_incident_types = incident_counts['INCIDENT_TYPE_ID'].value_counts().nlargest(5).index\n",
    "filtered_data = incident_counts[incident_counts['INCIDENT_TYPE_ID'].isin(top_incident_types)]\n",
    "\n",
    "#day of week order for the bar chart\n",
    "day_order = ['Monday', 'Tuesday', 'Wednesday', 'Thursday', 'Friday', 'Saturday', 'Sunday']\n",
    "filtered_data['DAY_OF_WEEK'] = pd.Categorical(filtered_data['DAY_OF_WEEK'], categories=day_order, ordered=True)\n",
    "\n",
    "#stacked bar chart\n",
    "fig = px.bar(\n",
    "    filtered_data,\n",
    "    x='DAY_OF_WEEK',\n",
    "    y='counts',\n",
    "    color='INCIDENT_TYPE_ID',\n",
    "    title='Top Incident Types by Day of the Week',\n",
    "    text='counts',\n",
    "    barmode='stack'\n",
    ")\n",
    "\n",
    "#readability\n",
    "fig.update_layout(\n",
    "    xaxis_title='Day of the Week',\n",
    "    yaxis_title='Number of Incidents',\n",
    "    legend_title='Incident Type',\n",
    "    margin=dict(l=40, r=40, t=40, b=40)\n",
    ")\n",
    "\n",
    "fig.show()"
   ]
  },
  {
   "cell_type": "markdown",
   "metadata": {},
   "source": [
    "This graph illustrates the different types of incidents throughout the week. I used a stacked bar chart to visualize which days had the highest counts of incidents and the specific types involved. I noticed that \"WAR\" incidents were the most common across all days, which I looked up online and found that it stands for \"Weapons, Assault, and Robbery.\" Even though this term reprsents several types of incidents, it limits my ability to draw specific conclusions about the individual categories and the count of occurences for each. Following WAR incidents, the next most common types are non-urgent and urgent welfare checks. I find it interesting that the incident type with the fewest occurrence shows a clear count, but the second least common type does not display a specific count on top or inside the chart part making it appear nonexistent among the five incident types in the visualization."
   ]
  },
  {
   "cell_type": "markdown",
   "metadata": {},
   "source": [
    "## Data Cleaning and Transformations\n",
    "\n",
    "- Address missing values in the dataset.\n",
    "- Address duplicate values.\n",
    "- Address anomalies and outliers.\n",
    "- Convert and transform data types\n",
    "\n",
    "WHile cleaning the dataset, I first worked on dealing with the missing values, which were clearly present in various columns like CFS_NO and SUBJECT_GENDER. For columns with only a few missing values, I decided to fill them in with the most common value as I felt that was reasonable how we did with other exploratory data analyses before this assignment. But for others with significant missing gaps, like LATITUDE_X and LONGITUDE_X, I chose to drop those rows to maintain data integrity and make it easier for me to work with the data. Next I moved on to check for duplicate values and found that there were none, which is comforting because it means my data is clean for the most part. When looking for anomalies, I noticed some unusually high values in the PRIORITY column and I wil need to investigate those more to see if they skew or badly effect the analysis. Then I converted the CREATE_TIME_INCIDENT column to a datetime format to make it easier to work with and for better readability on the visualizations section. Overall, my cleaning process involved filling in missing data, checking for outliers, and making sure all data types are appropriate for analysis to assist me in preparing a solid dataset for more advanced exploration to answer the project question."
   ]
  },
  {
   "cell_type": "markdown",
   "metadata": {},
   "source": [
    "## Prior Feedback and Updates\n",
    "\n",
    "Since I do not see any feedback from a peer for my final project for checkpoint 1 or from the TA or professor, I can not complete this."
   ]
  },
  {
   "cell_type": "markdown",
   "metadata": {},
   "source": [
    "## Machine Learning Plan\n",
    "\n",
    "Since the checkpoint 2 is now being due before the introduction to Machine Learning module, I can not complete this last criteria in the rubric for Checkpoint 2: Exploratory Data Analysis & Visualization."
   ]
  },
  {
   "attachments": {},
   "cell_type": "markdown",
   "metadata": {},
   "source": [
    "## Resources and References\n",
    "*What resources and references have you used for this project?*\n",
    "📝 I have the 2 datasets the City of Cincinnati and 1 API from them as well. I might add more later on since I know there will be need for further research."
   ]
  },
  {
   "cell_type": "code",
   "execution_count": 47,
   "metadata": {},
   "outputs": [
    {
     "name": "stderr",
     "output_type": "stream",
     "text": [
      "[NbConvertApp] Converting notebook source.ipynb to python\n",
      "[NbConvertApp] Writing 23987 bytes to source.py\n"
     ]
    }
   ],
   "source": [
    "# ⚠️ Make sure you run this cell at the end of your notebook before every submission!\n",
    "!jupyter nbconvert --to python source.ipynb"
   ]
  }
 ],
 "metadata": {
  "kernelspec": {
   "display_name": "Python 3",
   "language": "python",
   "name": "python3"
  },
  "language_info": {
   "codemirror_mode": {
    "name": "ipython",
    "version": 3
   },
   "file_extension": ".py",
   "mimetype": "text/x-python",
   "name": "python",
   "nbconvert_exporter": "python",
   "pygments_lexer": "ipython3",
   "version": "3.12.0"
  },
  "orig_nbformat": 4
 },
 "nbformat": 4,
 "nbformat_minor": 2
}
